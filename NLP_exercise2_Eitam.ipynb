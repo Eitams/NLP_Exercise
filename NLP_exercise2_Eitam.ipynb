{
  "nbformat": 4,
  "nbformat_minor": 0,
  "metadata": {
    "colab": {
      "name": "NLP_exercise2_Eitam.ipynb",
      "provenance": [],
      "collapsed_sections": [],
      "authorship_tag": "ABX9TyNP/5A37XrtruVg1zmPtK8A",
      "include_colab_link": true
    },
    "kernelspec": {
      "name": "python3",
      "display_name": "Python 3"
    },
    "language_info": {
      "name": "python"
    }
  },
  "cells": [
    {
      "cell_type": "markdown",
      "metadata": {
        "id": "view-in-github",
        "colab_type": "text"
      },
      "source": [
        "<a href=\"https://colab.research.google.com/github/Eitams/NLP_Exercise/blob/main/NLP_exercise2_Eitam.ipynb\" target=\"_parent\"><img src=\"https://colab.research.google.com/assets/colab-badge.svg\" alt=\"Open In Colab\"/></a>"
      ]
    },
    {
      "cell_type": "markdown",
      "source": [
        "# Computational Language Technologies - Exercise 2\n",
        "#  Word embeddings\n",
        "\n",
        "Author: Eitam Shafran"
      ],
      "metadata": {
        "id": "GfwXdHUlMdEu"
      }
    },
    {
      "cell_type": "code",
      "execution_count": 1,
      "metadata": {
        "colab": {
          "base_uri": "https://localhost:8080/"
        },
        "id": "hpbGCKJLxvKF",
        "outputId": "ed5e4dc7-8663-42e2-911b-a1f42d240c81"
      },
      "outputs": [
        {
          "output_type": "stream",
          "name": "stdout",
          "text": [
            "Cloning into 'NLP_Exercise'...\n",
            "remote: Enumerating objects: 82, done.\u001b[K\n",
            "remote: Counting objects: 100% (82/82), done.\u001b[K\n",
            "remote: Compressing objects: 100% (79/79), done.\u001b[K\n",
            "remote: Total 82 (delta 35), reused 0 (delta 0), pack-reused 0\u001b[K\n",
            "Unpacking objects: 100% (82/82), done.\n"
          ]
        }
      ],
      "source": [
        "## Attached git reseparatory to download extracted data from\n",
        "!git clone https://github.com/Eitams/NLP_Exercise.git "
      ]
    },
    {
      "cell_type": "code",
      "source": [
        "## Import laibraries\n",
        "## data processing\n",
        "import pandas as pd\n",
        "import numpy as np\n",
        "\n",
        "## For plotting\n",
        "import matplotlib\n",
        "import matplotlib.pyplot as plt\n",
        "import seaborn as sns\n",
        "\n",
        "%matplotlib inline\n",
        "matplotlib.rcParams['figure.figsize'] = (10.0, 6.0)\n",
        "\n",
        "## Text processing\n",
        "import nltk\n",
        "nltk.download('stopwords')\n",
        "nltk.download('wordnet')\n",
        "import re\n",
        "from sklearn.feature_extraction.text import CountVectorizer\n",
        "from sklearn.feature_extraction.text import TfidfVectorizer\n",
        "\n",
        "## for Named-entity recognition (NER)\n",
        "import spacy\n"
      ],
      "metadata": {
        "colab": {
          "base_uri": "https://localhost:8080/"
        },
        "id": "MsEh0ETvzcGK",
        "outputId": "ae563030-040f-412f-f19f-aae564a0a1b9"
      },
      "execution_count": 2,
      "outputs": [
        {
          "output_type": "stream",
          "name": "stdout",
          "text": [
            "[nltk_data] Downloading package stopwords to /root/nltk_data...\n",
            "[nltk_data]   Unzipping corpora/stopwords.zip.\n",
            "[nltk_data] Downloading package wordnet to /root/nltk_data...\n",
            "[nltk_data]   Unzipping corpora/wordnet.zip.\n"
          ]
        }
      ]
    },
    {
      "cell_type": "code",
      "source": [
        "## Loading data from git\n",
        "df_bacteria = pd.read_csv(\"NLP_Exercise/data/bacteria_df.csv\", index_col=0)\n",
        "df_phage = pd.read_csv(\"NLP_Exercise/data/bacteriophage_df.csv\", index_col=0)"
      ],
      "metadata": {
        "id": "7ei5AsgqzUi2"
      },
      "execution_count": 3,
      "outputs": []
    },
    {
      "cell_type": "code",
      "source": [
        "# Dropping first row of df_phage (Its the general discription and not phage type)\n",
        "df_phage.drop(index = 0, inplace = True)\n",
        "df_phage.head()"
      ],
      "metadata": {
        "colab": {
          "base_uri": "https://localhost:8080/",
          "height": 206
        },
        "id": "SAFpFcwRzW8B",
        "outputId": "d44177e6-8c52-422f-9964-431dd42c77f3"
      },
      "execution_count": 4,
      "outputs": [
        {
          "output_type": "execute_result",
          "data": {
            "text/plain": [
              "                  Name                                        Description\n",
              "1  Bacillus virus AP50  Bacillus virus AP50 is a species of bacterioph...\n",
              "2  Bacteriophage AP205  Bacteriophage AP205 is a bacteriophage that in...\n",
              "3     Bacteriophage f2  Bacteriophage f2 is an icosahedral, positive-s...\n",
              "4    Bacteriophage MS2  Bacteriophage MS2 (Emesvirus zinderi), commonl...\n",
              "5     Bacteriophage Mu  Bacteriophage Mu, also known as mu phage or mu..."
            ],
            "text/html": [
              "\n",
              "  <div id=\"df-4d87b25d-43be-465f-9876-f9e9331125b5\">\n",
              "    <div class=\"colab-df-container\">\n",
              "      <div>\n",
              "<style scoped>\n",
              "    .dataframe tbody tr th:only-of-type {\n",
              "        vertical-align: middle;\n",
              "    }\n",
              "\n",
              "    .dataframe tbody tr th {\n",
              "        vertical-align: top;\n",
              "    }\n",
              "\n",
              "    .dataframe thead th {\n",
              "        text-align: right;\n",
              "    }\n",
              "</style>\n",
              "<table border=\"1\" class=\"dataframe\">\n",
              "  <thead>\n",
              "    <tr style=\"text-align: right;\">\n",
              "      <th></th>\n",
              "      <th>Name</th>\n",
              "      <th>Description</th>\n",
              "    </tr>\n",
              "  </thead>\n",
              "  <tbody>\n",
              "    <tr>\n",
              "      <th>1</th>\n",
              "      <td>Bacillus virus AP50</td>\n",
              "      <td>Bacillus virus AP50 is a species of bacterioph...</td>\n",
              "    </tr>\n",
              "    <tr>\n",
              "      <th>2</th>\n",
              "      <td>Bacteriophage AP205</td>\n",
              "      <td>Bacteriophage AP205 is a bacteriophage that in...</td>\n",
              "    </tr>\n",
              "    <tr>\n",
              "      <th>3</th>\n",
              "      <td>Bacteriophage f2</td>\n",
              "      <td>Bacteriophage f2 is an icosahedral, positive-s...</td>\n",
              "    </tr>\n",
              "    <tr>\n",
              "      <th>4</th>\n",
              "      <td>Bacteriophage MS2</td>\n",
              "      <td>Bacteriophage MS2 (Emesvirus zinderi), commonl...</td>\n",
              "    </tr>\n",
              "    <tr>\n",
              "      <th>5</th>\n",
              "      <td>Bacteriophage Mu</td>\n",
              "      <td>Bacteriophage Mu, also known as mu phage or mu...</td>\n",
              "    </tr>\n",
              "  </tbody>\n",
              "</table>\n",
              "</div>\n",
              "      <button class=\"colab-df-convert\" onclick=\"convertToInteractive('df-4d87b25d-43be-465f-9876-f9e9331125b5')\"\n",
              "              title=\"Convert this dataframe to an interactive table.\"\n",
              "              style=\"display:none;\">\n",
              "        \n",
              "  <svg xmlns=\"http://www.w3.org/2000/svg\" height=\"24px\"viewBox=\"0 0 24 24\"\n",
              "       width=\"24px\">\n",
              "    <path d=\"M0 0h24v24H0V0z\" fill=\"none\"/>\n",
              "    <path d=\"M18.56 5.44l.94 2.06.94-2.06 2.06-.94-2.06-.94-.94-2.06-.94 2.06-2.06.94zm-11 1L8.5 8.5l.94-2.06 2.06-.94-2.06-.94L8.5 2.5l-.94 2.06-2.06.94zm10 10l.94 2.06.94-2.06 2.06-.94-2.06-.94-.94-2.06-.94 2.06-2.06.94z\"/><path d=\"M17.41 7.96l-1.37-1.37c-.4-.4-.92-.59-1.43-.59-.52 0-1.04.2-1.43.59L10.3 9.45l-7.72 7.72c-.78.78-.78 2.05 0 2.83L4 21.41c.39.39.9.59 1.41.59.51 0 1.02-.2 1.41-.59l7.78-7.78 2.81-2.81c.8-.78.8-2.07 0-2.86zM5.41 20L4 18.59l7.72-7.72 1.47 1.35L5.41 20z\"/>\n",
              "  </svg>\n",
              "      </button>\n",
              "      \n",
              "  <style>\n",
              "    .colab-df-container {\n",
              "      display:flex;\n",
              "      flex-wrap:wrap;\n",
              "      gap: 12px;\n",
              "    }\n",
              "\n",
              "    .colab-df-convert {\n",
              "      background-color: #E8F0FE;\n",
              "      border: none;\n",
              "      border-radius: 50%;\n",
              "      cursor: pointer;\n",
              "      display: none;\n",
              "      fill: #1967D2;\n",
              "      height: 32px;\n",
              "      padding: 0 0 0 0;\n",
              "      width: 32px;\n",
              "    }\n",
              "\n",
              "    .colab-df-convert:hover {\n",
              "      background-color: #E2EBFA;\n",
              "      box-shadow: 0px 1px 2px rgba(60, 64, 67, 0.3), 0px 1px 3px 1px rgba(60, 64, 67, 0.15);\n",
              "      fill: #174EA6;\n",
              "    }\n",
              "\n",
              "    [theme=dark] .colab-df-convert {\n",
              "      background-color: #3B4455;\n",
              "      fill: #D2E3FC;\n",
              "    }\n",
              "\n",
              "    [theme=dark] .colab-df-convert:hover {\n",
              "      background-color: #434B5C;\n",
              "      box-shadow: 0px 1px 3px 1px rgba(0, 0, 0, 0.15);\n",
              "      filter: drop-shadow(0px 1px 2px rgba(0, 0, 0, 0.3));\n",
              "      fill: #FFFFFF;\n",
              "    }\n",
              "  </style>\n",
              "\n",
              "      <script>\n",
              "        const buttonEl =\n",
              "          document.querySelector('#df-4d87b25d-43be-465f-9876-f9e9331125b5 button.colab-df-convert');\n",
              "        buttonEl.style.display =\n",
              "          google.colab.kernel.accessAllowed ? 'block' : 'none';\n",
              "\n",
              "        async function convertToInteractive(key) {\n",
              "          const element = document.querySelector('#df-4d87b25d-43be-465f-9876-f9e9331125b5');\n",
              "          const dataTable =\n",
              "            await google.colab.kernel.invokeFunction('convertToInteractive',\n",
              "                                                     [key], {});\n",
              "          if (!dataTable) return;\n",
              "\n",
              "          const docLinkHtml = 'Like what you see? Visit the ' +\n",
              "            '<a target=\"_blank\" href=https://colab.research.google.com/notebooks/data_table.ipynb>data table notebook</a>'\n",
              "            + ' to learn more about interactive tables.';\n",
              "          element.innerHTML = '';\n",
              "          dataTable['output_type'] = 'display_data';\n",
              "          await google.colab.output.renderOutput(dataTable, element);\n",
              "          const docLink = document.createElement('div');\n",
              "          docLink.innerHTML = docLinkHtml;\n",
              "          element.appendChild(docLink);\n",
              "        }\n",
              "      </script>\n",
              "    </div>\n",
              "  </div>\n",
              "  "
            ]
          },
          "metadata": {},
          "execution_count": 4
        }
      ]
    },
    {
      "cell_type": "code",
      "source": [
        "'''\n",
        "Merge data into 1 data frame\n",
        "'''\n",
        "## Add type column\n",
        "df_bacteria[\"Type\"] = \"Bacteria\" \n",
        "df_phage[\"Type\"] = \"Bacteriophage\" \n",
        "\n",
        "## Merge df\n",
        "df = pd.concat([df_bacteria, df_phage])"
      ],
      "metadata": {
        "id": "MFjtBpOlzZK6"
      },
      "execution_count": 5,
      "outputs": []
    },
    {
      "cell_type": "code",
      "source": [
        "print(\"Dataframe dimensions: {}\".format(df.shape))\n",
        "df.head()"
      ],
      "metadata": {
        "colab": {
          "base_uri": "https://localhost:8080/",
          "height": 224
        },
        "id": "4A1pELpwzjmG",
        "outputId": "ba8387b7-ad7c-47a6-b3ae-476f95dc0ef2"
      },
      "execution_count": 6,
      "outputs": [
        {
          "output_type": "stream",
          "name": "stdout",
          "text": [
            "Dataframe dimensions: (179, 3)\n"
          ]
        },
        {
          "output_type": "execute_result",
          "data": {
            "text/plain": [
              "                        Name  \\\n",
              "0    Acinetobacter baumannii   \n",
              "1       Actinomyces israelii   \n",
              "2  Agrobacterium tumefaciens   \n",
              "3                  Anaplasma   \n",
              "4  Anaplasma phagocytophilum   \n",
              "\n",
              "                                         Description      Type  \n",
              "0  Acinetobacter baumannii is a typically short, ...  Bacteria  \n",
              "1  Actinomyces israelii is a species of Gram-posi...  Bacteria  \n",
              "2  Agrobacterium radiobacter (more commonly known...  Bacteria  \n",
              "3  Anaplasma is a genus of bacteria of the alphap...  Bacteria  \n",
              "4  Anaplasma phagocytophilum (formerly Ehrlichia ...  Bacteria  "
            ],
            "text/html": [
              "\n",
              "  <div id=\"df-03e12a93-552c-4093-8aec-671555db0b95\">\n",
              "    <div class=\"colab-df-container\">\n",
              "      <div>\n",
              "<style scoped>\n",
              "    .dataframe tbody tr th:only-of-type {\n",
              "        vertical-align: middle;\n",
              "    }\n",
              "\n",
              "    .dataframe tbody tr th {\n",
              "        vertical-align: top;\n",
              "    }\n",
              "\n",
              "    .dataframe thead th {\n",
              "        text-align: right;\n",
              "    }\n",
              "</style>\n",
              "<table border=\"1\" class=\"dataframe\">\n",
              "  <thead>\n",
              "    <tr style=\"text-align: right;\">\n",
              "      <th></th>\n",
              "      <th>Name</th>\n",
              "      <th>Description</th>\n",
              "      <th>Type</th>\n",
              "    </tr>\n",
              "  </thead>\n",
              "  <tbody>\n",
              "    <tr>\n",
              "      <th>0</th>\n",
              "      <td>Acinetobacter baumannii</td>\n",
              "      <td>Acinetobacter baumannii is a typically short, ...</td>\n",
              "      <td>Bacteria</td>\n",
              "    </tr>\n",
              "    <tr>\n",
              "      <th>1</th>\n",
              "      <td>Actinomyces israelii</td>\n",
              "      <td>Actinomyces israelii is a species of Gram-posi...</td>\n",
              "      <td>Bacteria</td>\n",
              "    </tr>\n",
              "    <tr>\n",
              "      <th>2</th>\n",
              "      <td>Agrobacterium tumefaciens</td>\n",
              "      <td>Agrobacterium radiobacter (more commonly known...</td>\n",
              "      <td>Bacteria</td>\n",
              "    </tr>\n",
              "    <tr>\n",
              "      <th>3</th>\n",
              "      <td>Anaplasma</td>\n",
              "      <td>Anaplasma is a genus of bacteria of the alphap...</td>\n",
              "      <td>Bacteria</td>\n",
              "    </tr>\n",
              "    <tr>\n",
              "      <th>4</th>\n",
              "      <td>Anaplasma phagocytophilum</td>\n",
              "      <td>Anaplasma phagocytophilum (formerly Ehrlichia ...</td>\n",
              "      <td>Bacteria</td>\n",
              "    </tr>\n",
              "  </tbody>\n",
              "</table>\n",
              "</div>\n",
              "      <button class=\"colab-df-convert\" onclick=\"convertToInteractive('df-03e12a93-552c-4093-8aec-671555db0b95')\"\n",
              "              title=\"Convert this dataframe to an interactive table.\"\n",
              "              style=\"display:none;\">\n",
              "        \n",
              "  <svg xmlns=\"http://www.w3.org/2000/svg\" height=\"24px\"viewBox=\"0 0 24 24\"\n",
              "       width=\"24px\">\n",
              "    <path d=\"M0 0h24v24H0V0z\" fill=\"none\"/>\n",
              "    <path d=\"M18.56 5.44l.94 2.06.94-2.06 2.06-.94-2.06-.94-.94-2.06-.94 2.06-2.06.94zm-11 1L8.5 8.5l.94-2.06 2.06-.94-2.06-.94L8.5 2.5l-.94 2.06-2.06.94zm10 10l.94 2.06.94-2.06 2.06-.94-2.06-.94-.94-2.06-.94 2.06-2.06.94z\"/><path d=\"M17.41 7.96l-1.37-1.37c-.4-.4-.92-.59-1.43-.59-.52 0-1.04.2-1.43.59L10.3 9.45l-7.72 7.72c-.78.78-.78 2.05 0 2.83L4 21.41c.39.39.9.59 1.41.59.51 0 1.02-.2 1.41-.59l7.78-7.78 2.81-2.81c.8-.78.8-2.07 0-2.86zM5.41 20L4 18.59l7.72-7.72 1.47 1.35L5.41 20z\"/>\n",
              "  </svg>\n",
              "      </button>\n",
              "      \n",
              "  <style>\n",
              "    .colab-df-container {\n",
              "      display:flex;\n",
              "      flex-wrap:wrap;\n",
              "      gap: 12px;\n",
              "    }\n",
              "\n",
              "    .colab-df-convert {\n",
              "      background-color: #E8F0FE;\n",
              "      border: none;\n",
              "      border-radius: 50%;\n",
              "      cursor: pointer;\n",
              "      display: none;\n",
              "      fill: #1967D2;\n",
              "      height: 32px;\n",
              "      padding: 0 0 0 0;\n",
              "      width: 32px;\n",
              "    }\n",
              "\n",
              "    .colab-df-convert:hover {\n",
              "      background-color: #E2EBFA;\n",
              "      box-shadow: 0px 1px 2px rgba(60, 64, 67, 0.3), 0px 1px 3px 1px rgba(60, 64, 67, 0.15);\n",
              "      fill: #174EA6;\n",
              "    }\n",
              "\n",
              "    [theme=dark] .colab-df-convert {\n",
              "      background-color: #3B4455;\n",
              "      fill: #D2E3FC;\n",
              "    }\n",
              "\n",
              "    [theme=dark] .colab-df-convert:hover {\n",
              "      background-color: #434B5C;\n",
              "      box-shadow: 0px 1px 3px 1px rgba(0, 0, 0, 0.15);\n",
              "      filter: drop-shadow(0px 1px 2px rgba(0, 0, 0, 0.3));\n",
              "      fill: #FFFFFF;\n",
              "    }\n",
              "  </style>\n",
              "\n",
              "      <script>\n",
              "        const buttonEl =\n",
              "          document.querySelector('#df-03e12a93-552c-4093-8aec-671555db0b95 button.colab-df-convert');\n",
              "        buttonEl.style.display =\n",
              "          google.colab.kernel.accessAllowed ? 'block' : 'none';\n",
              "\n",
              "        async function convertToInteractive(key) {\n",
              "          const element = document.querySelector('#df-03e12a93-552c-4093-8aec-671555db0b95');\n",
              "          const dataTable =\n",
              "            await google.colab.kernel.invokeFunction('convertToInteractive',\n",
              "                                                     [key], {});\n",
              "          if (!dataTable) return;\n",
              "\n",
              "          const docLinkHtml = 'Like what you see? Visit the ' +\n",
              "            '<a target=\"_blank\" href=https://colab.research.google.com/notebooks/data_table.ipynb>data table notebook</a>'\n",
              "            + ' to learn more about interactive tables.';\n",
              "          element.innerHTML = '';\n",
              "          dataTable['output_type'] = 'display_data';\n",
              "          await google.colab.output.renderOutput(dataTable, element);\n",
              "          const docLink = document.createElement('div');\n",
              "          docLink.innerHTML = docLinkHtml;\n",
              "          element.appendChild(docLink);\n",
              "        }\n",
              "      </script>\n",
              "    </div>\n",
              "  </div>\n",
              "  "
            ]
          },
          "metadata": {},
          "execution_count": 6
        }
      ]
    },
    {
      "cell_type": "markdown",
      "source": [
        "## Data preprocessing"
      ],
      "metadata": {
        "id": "mS95m6MFN-5T"
      }
    },
    {
      "cell_type": "code",
      "source": [
        "'''\n",
        "Function which remove html tags from text string.\n",
        "'''\n",
        "def utils_basic_clean(text):\n",
        "    ## clean ( Remove HTML tags)\n",
        "    text = str(text).replace(\"(<br/>)\", \"\") ## line break element\n",
        "    text = text.replace('(<a).*(>).*(</a>)', '') ## Hyperlink tag\n",
        "    text = text.replace('(&amp)', '')\n",
        "    text = text.replace('(&gt)', '')\n",
        "    text = text.replace('(&lt)', '')\n",
        "    text = text.replace('(\\xa0)', ' ') \n",
        "    \n",
        "    return(text)\n",
        "\n",
        "\n",
        "\n",
        "'''\n",
        "Function which preprocess a text string:\n",
        "Lower case, remove punctuation and stopwords, lemmatization or stemming)\n",
        ":parameter\n",
        "    :param text: string - name of column containing text\n",
        "    :param lst_stopwords: list - list of stopwords to remove\n",
        "    :param flg_stemm: bool - whether stemming is to be applied\n",
        "    :param flg_lemm: bool - whether lemmitisation is to be applied\n",
        ":return\n",
        "    cleaned text\n",
        "'''\n",
        "def utils_preprocess_text(text, flg_stemm=False, flg_lemm=True, lst_stopwords=None):\n",
        "    ## clean (convert to lowercase and remove punctuations and characters and then remove leading and trailing whitespaces)\n",
        "    text = re.sub(r'[^\\w\\s]', '', str(text).lower().strip())\n",
        "            \n",
        "    ## Tokenize (convert from string to list)\n",
        "    lst_text = text.split()    ## remove Stopwords\n",
        "    if lst_stopwords is not None:\n",
        "        lst_text = [word for word in lst_text if word not in \n",
        "                    lst_stopwords]\n",
        "                \n",
        "    ## Stemming (remove -ing, -ly, ...)\n",
        "    if flg_stemm == True:\n",
        "        ps = nltk.stem.porter.PorterStemmer()\n",
        "        lst_text = [ps.stem(word) for word in lst_text]\n",
        "                \n",
        "    ## Lemmatisation (convert the word into root word)\n",
        "    if flg_lemm == True:\n",
        "        lem = nltk.stem.wordnet.WordNetLemmatizer()\n",
        "        lst_text = [lem.lemmatize(word) for word in lst_text]\n",
        "            \n",
        "    ## back to string from list\n",
        "    text = \" \".join(lst_text)\n",
        "    return text"
      ],
      "metadata": {
        "id": "H7BZx5uwzu9b"
      },
      "execution_count": 7,
      "outputs": []
    },
    {
      "cell_type": "code",
      "source": [
        "## Creating a list of stopwords (usnig NLTK packege) to remove from text\n",
        "lst_stopwords = nltk.corpus.stopwords.words(\"english\")\n",
        "print(lst_stopwords)"
      ],
      "metadata": {
        "colab": {
          "base_uri": "https://localhost:8080/"
        },
        "id": "VlbXv2mF0fm_",
        "outputId": "dfe45eec-8d04-4d04-9088-a4876e56ea2e"
      },
      "execution_count": 8,
      "outputs": [
        {
          "output_type": "stream",
          "name": "stdout",
          "text": [
            "['i', 'me', 'my', 'myself', 'we', 'our', 'ours', 'ourselves', 'you', \"you're\", \"you've\", \"you'll\", \"you'd\", 'your', 'yours', 'yourself', 'yourselves', 'he', 'him', 'his', 'himself', 'she', \"she's\", 'her', 'hers', 'herself', 'it', \"it's\", 'its', 'itself', 'they', 'them', 'their', 'theirs', 'themselves', 'what', 'which', 'who', 'whom', 'this', 'that', \"that'll\", 'these', 'those', 'am', 'is', 'are', 'was', 'were', 'be', 'been', 'being', 'have', 'has', 'had', 'having', 'do', 'does', 'did', 'doing', 'a', 'an', 'the', 'and', 'but', 'if', 'or', 'because', 'as', 'until', 'while', 'of', 'at', 'by', 'for', 'with', 'about', 'against', 'between', 'into', 'through', 'during', 'before', 'after', 'above', 'below', 'to', 'from', 'up', 'down', 'in', 'out', 'on', 'off', 'over', 'under', 'again', 'further', 'then', 'once', 'here', 'there', 'when', 'where', 'why', 'how', 'all', 'any', 'both', 'each', 'few', 'more', 'most', 'other', 'some', 'such', 'no', 'nor', 'not', 'only', 'own', 'same', 'so', 'than', 'too', 'very', 's', 't', 'can', 'will', 'just', 'don', \"don't\", 'should', \"should've\", 'now', 'd', 'll', 'm', 'o', 're', 've', 'y', 'ain', 'aren', \"aren't\", 'couldn', \"couldn't\", 'didn', \"didn't\", 'doesn', \"doesn't\", 'hadn', \"hadn't\", 'hasn', \"hasn't\", 'haven', \"haven't\", 'isn', \"isn't\", 'ma', 'mightn', \"mightn't\", 'mustn', \"mustn't\", 'needn', \"needn't\", 'shan', \"shan't\", 'shouldn', \"shouldn't\", 'wasn', \"wasn't\", 'weren', \"weren't\", 'won', \"won't\", 'wouldn', \"wouldn't\"]\n"
          ]
        }
      ]
    },
    {
      "cell_type": "code",
      "source": [
        "## Apply basic cleaning on Description column\n",
        "df[\"Description\"] = df[\"Description\"].apply(lambda x: utils_basic_clean(x))\n",
        "\n",
        "## Apply cleaning and preprocessing on Description column using utils function with lemmatization of words -saving as a new column-\n",
        "df[\"Description_clean\"] = df[\"Description\"].apply(lambda x: utils_preprocess_text(x, flg_stemm=False, flg_lemm=True, lst_stopwords=lst_stopwords))\n",
        "df.head()\n"
      ],
      "metadata": {
        "colab": {
          "base_uri": "https://localhost:8080/",
          "height": 206
        },
        "id": "XdTy9Khj0i63",
        "outputId": "1cd0268b-3f72-4d4e-ddf4-56241a4d46d3"
      },
      "execution_count": 9,
      "outputs": [
        {
          "output_type": "execute_result",
          "data": {
            "text/plain": [
              "                        Name  \\\n",
              "0    Acinetobacter baumannii   \n",
              "1       Actinomyces israelii   \n",
              "2  Agrobacterium tumefaciens   \n",
              "3                  Anaplasma   \n",
              "4  Anaplasma phagocytophilum   \n",
              "\n",
              "                                         Description      Type  \\\n",
              "0  Acinetobacter baumannii is a typically short, ...  Bacteria   \n",
              "1  Actinomyces israelii is a species of Gram-posi...  Bacteria   \n",
              "2  Agrobacterium radiobacter (more commonly known...  Bacteria   \n",
              "3  Anaplasma is a genus of bacteria of the alphap...  Bacteria   \n",
              "4  Anaplasma phagocytophilum (formerly Ehrlichia ...  Bacteria   \n",
              "\n",
              "                                   Description_clean  \n",
              "0  acinetobacter baumannii typically short almost...  \n",
              "1  actinomyces israelii specie grampositive rodsh...  \n",
              "2  agrobacterium radiobacter commonly known agrob...  \n",
              "3  anaplasma genus bacteria alphaproteobacterial ...  \n",
              "4  anaplasma phagocytophilum formerly ehrlichia p...  "
            ],
            "text/html": [
              "\n",
              "  <div id=\"df-8c3e2dce-6487-4519-94d8-3e2349e10276\">\n",
              "    <div class=\"colab-df-container\">\n",
              "      <div>\n",
              "<style scoped>\n",
              "    .dataframe tbody tr th:only-of-type {\n",
              "        vertical-align: middle;\n",
              "    }\n",
              "\n",
              "    .dataframe tbody tr th {\n",
              "        vertical-align: top;\n",
              "    }\n",
              "\n",
              "    .dataframe thead th {\n",
              "        text-align: right;\n",
              "    }\n",
              "</style>\n",
              "<table border=\"1\" class=\"dataframe\">\n",
              "  <thead>\n",
              "    <tr style=\"text-align: right;\">\n",
              "      <th></th>\n",
              "      <th>Name</th>\n",
              "      <th>Description</th>\n",
              "      <th>Type</th>\n",
              "      <th>Description_clean</th>\n",
              "    </tr>\n",
              "  </thead>\n",
              "  <tbody>\n",
              "    <tr>\n",
              "      <th>0</th>\n",
              "      <td>Acinetobacter baumannii</td>\n",
              "      <td>Acinetobacter baumannii is a typically short, ...</td>\n",
              "      <td>Bacteria</td>\n",
              "      <td>acinetobacter baumannii typically short almost...</td>\n",
              "    </tr>\n",
              "    <tr>\n",
              "      <th>1</th>\n",
              "      <td>Actinomyces israelii</td>\n",
              "      <td>Actinomyces israelii is a species of Gram-posi...</td>\n",
              "      <td>Bacteria</td>\n",
              "      <td>actinomyces israelii specie grampositive rodsh...</td>\n",
              "    </tr>\n",
              "    <tr>\n",
              "      <th>2</th>\n",
              "      <td>Agrobacterium tumefaciens</td>\n",
              "      <td>Agrobacterium radiobacter (more commonly known...</td>\n",
              "      <td>Bacteria</td>\n",
              "      <td>agrobacterium radiobacter commonly known agrob...</td>\n",
              "    </tr>\n",
              "    <tr>\n",
              "      <th>3</th>\n",
              "      <td>Anaplasma</td>\n",
              "      <td>Anaplasma is a genus of bacteria of the alphap...</td>\n",
              "      <td>Bacteria</td>\n",
              "      <td>anaplasma genus bacteria alphaproteobacterial ...</td>\n",
              "    </tr>\n",
              "    <tr>\n",
              "      <th>4</th>\n",
              "      <td>Anaplasma phagocytophilum</td>\n",
              "      <td>Anaplasma phagocytophilum (formerly Ehrlichia ...</td>\n",
              "      <td>Bacteria</td>\n",
              "      <td>anaplasma phagocytophilum formerly ehrlichia p...</td>\n",
              "    </tr>\n",
              "  </tbody>\n",
              "</table>\n",
              "</div>\n",
              "      <button class=\"colab-df-convert\" onclick=\"convertToInteractive('df-8c3e2dce-6487-4519-94d8-3e2349e10276')\"\n",
              "              title=\"Convert this dataframe to an interactive table.\"\n",
              "              style=\"display:none;\">\n",
              "        \n",
              "  <svg xmlns=\"http://www.w3.org/2000/svg\" height=\"24px\"viewBox=\"0 0 24 24\"\n",
              "       width=\"24px\">\n",
              "    <path d=\"M0 0h24v24H0V0z\" fill=\"none\"/>\n",
              "    <path d=\"M18.56 5.44l.94 2.06.94-2.06 2.06-.94-2.06-.94-.94-2.06-.94 2.06-2.06.94zm-11 1L8.5 8.5l.94-2.06 2.06-.94-2.06-.94L8.5 2.5l-.94 2.06-2.06.94zm10 10l.94 2.06.94-2.06 2.06-.94-2.06-.94-.94-2.06-.94 2.06-2.06.94z\"/><path d=\"M17.41 7.96l-1.37-1.37c-.4-.4-.92-.59-1.43-.59-.52 0-1.04.2-1.43.59L10.3 9.45l-7.72 7.72c-.78.78-.78 2.05 0 2.83L4 21.41c.39.39.9.59 1.41.59.51 0 1.02-.2 1.41-.59l7.78-7.78 2.81-2.81c.8-.78.8-2.07 0-2.86zM5.41 20L4 18.59l7.72-7.72 1.47 1.35L5.41 20z\"/>\n",
              "  </svg>\n",
              "      </button>\n",
              "      \n",
              "  <style>\n",
              "    .colab-df-container {\n",
              "      display:flex;\n",
              "      flex-wrap:wrap;\n",
              "      gap: 12px;\n",
              "    }\n",
              "\n",
              "    .colab-df-convert {\n",
              "      background-color: #E8F0FE;\n",
              "      border: none;\n",
              "      border-radius: 50%;\n",
              "      cursor: pointer;\n",
              "      display: none;\n",
              "      fill: #1967D2;\n",
              "      height: 32px;\n",
              "      padding: 0 0 0 0;\n",
              "      width: 32px;\n",
              "    }\n",
              "\n",
              "    .colab-df-convert:hover {\n",
              "      background-color: #E2EBFA;\n",
              "      box-shadow: 0px 1px 2px rgba(60, 64, 67, 0.3), 0px 1px 3px 1px rgba(60, 64, 67, 0.15);\n",
              "      fill: #174EA6;\n",
              "    }\n",
              "\n",
              "    [theme=dark] .colab-df-convert {\n",
              "      background-color: #3B4455;\n",
              "      fill: #D2E3FC;\n",
              "    }\n",
              "\n",
              "    [theme=dark] .colab-df-convert:hover {\n",
              "      background-color: #434B5C;\n",
              "      box-shadow: 0px 1px 3px 1px rgba(0, 0, 0, 0.15);\n",
              "      filter: drop-shadow(0px 1px 2px rgba(0, 0, 0, 0.3));\n",
              "      fill: #FFFFFF;\n",
              "    }\n",
              "  </style>\n",
              "\n",
              "      <script>\n",
              "        const buttonEl =\n",
              "          document.querySelector('#df-8c3e2dce-6487-4519-94d8-3e2349e10276 button.colab-df-convert');\n",
              "        buttonEl.style.display =\n",
              "          google.colab.kernel.accessAllowed ? 'block' : 'none';\n",
              "\n",
              "        async function convertToInteractive(key) {\n",
              "          const element = document.querySelector('#df-8c3e2dce-6487-4519-94d8-3e2349e10276');\n",
              "          const dataTable =\n",
              "            await google.colab.kernel.invokeFunction('convertToInteractive',\n",
              "                                                     [key], {});\n",
              "          if (!dataTable) return;\n",
              "\n",
              "          const docLinkHtml = 'Like what you see? Visit the ' +\n",
              "            '<a target=\"_blank\" href=https://colab.research.google.com/notebooks/data_table.ipynb>data table notebook</a>'\n",
              "            + ' to learn more about interactive tables.';\n",
              "          element.innerHTML = '';\n",
              "          dataTable['output_type'] = 'display_data';\n",
              "          await google.colab.output.renderOutput(dataTable, element);\n",
              "          const docLink = document.createElement('div');\n",
              "          docLink.innerHTML = docLinkHtml;\n",
              "          element.appendChild(docLink);\n",
              "        }\n",
              "      </script>\n",
              "    </div>\n",
              "  </div>\n",
              "  "
            ]
          },
          "metadata": {},
          "execution_count": 9
        }
      ]
    },
    {
      "cell_type": "code",
      "source": [
        "## Create a tokanized column\n",
        "from spacy.lang.en import English\n",
        "\n",
        "# Disable all the annotators except the tokenizer so its fast\n",
        "nlp = English(disable=['tagger', 'parser', 'ner'])\n",
        "\n",
        "def tokenize(text):\n",
        "  return [t.text.lower() for t in nlp(text)]  "
      ],
      "metadata": {
        "id": "Yjvmt2Ku1jPh"
      },
      "execution_count": 10,
      "outputs": []
    },
    {
      "cell_type": "code",
      "source": [
        "# Apply tokenization (on clean data)\n",
        "df['tokens'] = df['Description_clean'].apply(tokenize)\n"
      ],
      "metadata": {
        "id": "EMLUO1uK1qRk"
      },
      "execution_count": 11,
      "outputs": []
    },
    {
      "cell_type": "code",
      "source": [
        "df.head()"
      ],
      "metadata": {
        "colab": {
          "base_uri": "https://localhost:8080/",
          "height": 206
        },
        "id": "t22HKqaU1kG7",
        "outputId": "eef201ac-1b6f-44f1-ba29-7fdbd508d955"
      },
      "execution_count": 12,
      "outputs": [
        {
          "output_type": "execute_result",
          "data": {
            "text/plain": [
              "                        Name  \\\n",
              "0    Acinetobacter baumannii   \n",
              "1       Actinomyces israelii   \n",
              "2  Agrobacterium tumefaciens   \n",
              "3                  Anaplasma   \n",
              "4  Anaplasma phagocytophilum   \n",
              "\n",
              "                                         Description      Type  \\\n",
              "0  Acinetobacter baumannii is a typically short, ...  Bacteria   \n",
              "1  Actinomyces israelii is a species of Gram-posi...  Bacteria   \n",
              "2  Agrobacterium radiobacter (more commonly known...  Bacteria   \n",
              "3  Anaplasma is a genus of bacteria of the alphap...  Bacteria   \n",
              "4  Anaplasma phagocytophilum (formerly Ehrlichia ...  Bacteria   \n",
              "\n",
              "                                   Description_clean  \\\n",
              "0  acinetobacter baumannii typically short almost...   \n",
              "1  actinomyces israelii specie grampositive rodsh...   \n",
              "2  agrobacterium radiobacter commonly known agrob...   \n",
              "3  anaplasma genus bacteria alphaproteobacterial ...   \n",
              "4  anaplasma phagocytophilum formerly ehrlichia p...   \n",
              "\n",
              "                                              tokens  \n",
              "0  [acinetobacter, baumannii, typically, short, a...  \n",
              "1  [actinomyces, israelii, specie, grampositive, ...  \n",
              "2  [agrobacterium, radiobacter, commonly, known, ...  \n",
              "3  [anaplasma, genus, bacteria, alphaproteobacter...  \n",
              "4  [anaplasma, phagocytophilum, formerly, ehrlich...  "
            ],
            "text/html": [
              "\n",
              "  <div id=\"df-acb76024-0835-47a2-a81c-5c0a6197307b\">\n",
              "    <div class=\"colab-df-container\">\n",
              "      <div>\n",
              "<style scoped>\n",
              "    .dataframe tbody tr th:only-of-type {\n",
              "        vertical-align: middle;\n",
              "    }\n",
              "\n",
              "    .dataframe tbody tr th {\n",
              "        vertical-align: top;\n",
              "    }\n",
              "\n",
              "    .dataframe thead th {\n",
              "        text-align: right;\n",
              "    }\n",
              "</style>\n",
              "<table border=\"1\" class=\"dataframe\">\n",
              "  <thead>\n",
              "    <tr style=\"text-align: right;\">\n",
              "      <th></th>\n",
              "      <th>Name</th>\n",
              "      <th>Description</th>\n",
              "      <th>Type</th>\n",
              "      <th>Description_clean</th>\n",
              "      <th>tokens</th>\n",
              "    </tr>\n",
              "  </thead>\n",
              "  <tbody>\n",
              "    <tr>\n",
              "      <th>0</th>\n",
              "      <td>Acinetobacter baumannii</td>\n",
              "      <td>Acinetobacter baumannii is a typically short, ...</td>\n",
              "      <td>Bacteria</td>\n",
              "      <td>acinetobacter baumannii typically short almost...</td>\n",
              "      <td>[acinetobacter, baumannii, typically, short, a...</td>\n",
              "    </tr>\n",
              "    <tr>\n",
              "      <th>1</th>\n",
              "      <td>Actinomyces israelii</td>\n",
              "      <td>Actinomyces israelii is a species of Gram-posi...</td>\n",
              "      <td>Bacteria</td>\n",
              "      <td>actinomyces israelii specie grampositive rodsh...</td>\n",
              "      <td>[actinomyces, israelii, specie, grampositive, ...</td>\n",
              "    </tr>\n",
              "    <tr>\n",
              "      <th>2</th>\n",
              "      <td>Agrobacterium tumefaciens</td>\n",
              "      <td>Agrobacterium radiobacter (more commonly known...</td>\n",
              "      <td>Bacteria</td>\n",
              "      <td>agrobacterium radiobacter commonly known agrob...</td>\n",
              "      <td>[agrobacterium, radiobacter, commonly, known, ...</td>\n",
              "    </tr>\n",
              "    <tr>\n",
              "      <th>3</th>\n",
              "      <td>Anaplasma</td>\n",
              "      <td>Anaplasma is a genus of bacteria of the alphap...</td>\n",
              "      <td>Bacteria</td>\n",
              "      <td>anaplasma genus bacteria alphaproteobacterial ...</td>\n",
              "      <td>[anaplasma, genus, bacteria, alphaproteobacter...</td>\n",
              "    </tr>\n",
              "    <tr>\n",
              "      <th>4</th>\n",
              "      <td>Anaplasma phagocytophilum</td>\n",
              "      <td>Anaplasma phagocytophilum (formerly Ehrlichia ...</td>\n",
              "      <td>Bacteria</td>\n",
              "      <td>anaplasma phagocytophilum formerly ehrlichia p...</td>\n",
              "      <td>[anaplasma, phagocytophilum, formerly, ehrlich...</td>\n",
              "    </tr>\n",
              "  </tbody>\n",
              "</table>\n",
              "</div>\n",
              "      <button class=\"colab-df-convert\" onclick=\"convertToInteractive('df-acb76024-0835-47a2-a81c-5c0a6197307b')\"\n",
              "              title=\"Convert this dataframe to an interactive table.\"\n",
              "              style=\"display:none;\">\n",
              "        \n",
              "  <svg xmlns=\"http://www.w3.org/2000/svg\" height=\"24px\"viewBox=\"0 0 24 24\"\n",
              "       width=\"24px\">\n",
              "    <path d=\"M0 0h24v24H0V0z\" fill=\"none\"/>\n",
              "    <path d=\"M18.56 5.44l.94 2.06.94-2.06 2.06-.94-2.06-.94-.94-2.06-.94 2.06-2.06.94zm-11 1L8.5 8.5l.94-2.06 2.06-.94-2.06-.94L8.5 2.5l-.94 2.06-2.06.94zm10 10l.94 2.06.94-2.06 2.06-.94-2.06-.94-.94-2.06-.94 2.06-2.06.94z\"/><path d=\"M17.41 7.96l-1.37-1.37c-.4-.4-.92-.59-1.43-.59-.52 0-1.04.2-1.43.59L10.3 9.45l-7.72 7.72c-.78.78-.78 2.05 0 2.83L4 21.41c.39.39.9.59 1.41.59.51 0 1.02-.2 1.41-.59l7.78-7.78 2.81-2.81c.8-.78.8-2.07 0-2.86zM5.41 20L4 18.59l7.72-7.72 1.47 1.35L5.41 20z\"/>\n",
              "  </svg>\n",
              "      </button>\n",
              "      \n",
              "  <style>\n",
              "    .colab-df-container {\n",
              "      display:flex;\n",
              "      flex-wrap:wrap;\n",
              "      gap: 12px;\n",
              "    }\n",
              "\n",
              "    .colab-df-convert {\n",
              "      background-color: #E8F0FE;\n",
              "      border: none;\n",
              "      border-radius: 50%;\n",
              "      cursor: pointer;\n",
              "      display: none;\n",
              "      fill: #1967D2;\n",
              "      height: 32px;\n",
              "      padding: 0 0 0 0;\n",
              "      width: 32px;\n",
              "    }\n",
              "\n",
              "    .colab-df-convert:hover {\n",
              "      background-color: #E2EBFA;\n",
              "      box-shadow: 0px 1px 2px rgba(60, 64, 67, 0.3), 0px 1px 3px 1px rgba(60, 64, 67, 0.15);\n",
              "      fill: #174EA6;\n",
              "    }\n",
              "\n",
              "    [theme=dark] .colab-df-convert {\n",
              "      background-color: #3B4455;\n",
              "      fill: #D2E3FC;\n",
              "    }\n",
              "\n",
              "    [theme=dark] .colab-df-convert:hover {\n",
              "      background-color: #434B5C;\n",
              "      box-shadow: 0px 1px 3px 1px rgba(0, 0, 0, 0.15);\n",
              "      filter: drop-shadow(0px 1px 2px rgba(0, 0, 0, 0.3));\n",
              "      fill: #FFFFFF;\n",
              "    }\n",
              "  </style>\n",
              "\n",
              "      <script>\n",
              "        const buttonEl =\n",
              "          document.querySelector('#df-acb76024-0835-47a2-a81c-5c0a6197307b button.colab-df-convert');\n",
              "        buttonEl.style.display =\n",
              "          google.colab.kernel.accessAllowed ? 'block' : 'none';\n",
              "\n",
              "        async function convertToInteractive(key) {\n",
              "          const element = document.querySelector('#df-acb76024-0835-47a2-a81c-5c0a6197307b');\n",
              "          const dataTable =\n",
              "            await google.colab.kernel.invokeFunction('convertToInteractive',\n",
              "                                                     [key], {});\n",
              "          if (!dataTable) return;\n",
              "\n",
              "          const docLinkHtml = 'Like what you see? Visit the ' +\n",
              "            '<a target=\"_blank\" href=https://colab.research.google.com/notebooks/data_table.ipynb>data table notebook</a>'\n",
              "            + ' to learn more about interactive tables.';\n",
              "          element.innerHTML = '';\n",
              "          dataTable['output_type'] = 'display_data';\n",
              "          await google.colab.output.renderOutput(dataTable, element);\n",
              "          const docLink = document.createElement('div');\n",
              "          docLink.innerHTML = docLinkHtml;\n",
              "          element.appendChild(docLink);\n",
              "        }\n",
              "      </script>\n",
              "    </div>\n",
              "  </div>\n",
              "  "
            ]
          },
          "metadata": {},
          "execution_count": 12
        }
      ]
    },
    {
      "cell_type": "markdown",
      "source": [
        "## Visualize semantic space\n",
        "**Using Word2Vec word embedding with window = 5**\n"
      ],
      "metadata": {
        "id": "s33PP-TF0-pd"
      }
    },
    {
      "cell_type": "code",
      "source": [
        "# Train embedding space using the word2vec architecture\n",
        "from gensim.models import Word2Vec\n",
        "\n",
        "# Set values for various parameters\n",
        "feature_size = 100  # Word vector dimensionality\n",
        "window_context = 5  # Context window size\n",
        "min_word_count = 5  # Minimum word count\n",
        "\n",
        "## Train the model on the bacteria class\n",
        "sentences = df.loc[df.Type == \"Bacteria\", \"tokens\"]\n",
        "w2vmodel_bacteria = Word2Vec(sentences=sentences, size=feature_size, window=window_context, min_count=min_word_count, sg = 0)\n",
        "\n",
        "## Train the model on the bacteriophage class\n",
        "sentences = df.loc[df.Type == \"Bacteriophage\", \"tokens\"]\n",
        "w2vmodel_phage = Word2Vec(sentences=sentences, size=feature_size, window=window_context, min_count=min_word_count, sg = 0)\n"
      ],
      "metadata": {
        "id": "4m1TUeen-xEV"
      },
      "execution_count": 13,
      "outputs": []
    },
    {
      "cell_type": "markdown",
      "source": [
        "### Plot bacteria semantic space"
      ],
      "metadata": {
        "id": "YgxpYjfUQU2U"
      }
    },
    {
      "cell_type": "code",
      "source": [
        "from sklearn.manifold import TSNE\n",
        "\n",
        "words = w2vmodel_bacteria.wv.index2word[0:]      ## get the word forms of voculary sample\n",
        "wvs = w2vmodel_bacteria.wv[words]                     ## get embeddings of word forms\n",
        "\n",
        "tsne = TSNE(n_components=2, random_state=0, n_iter=5000, perplexity=5)\n",
        "np.set_printoptions(suppress=True)\n",
        "T = tsne.fit_transform(wvs)\n",
        "labels = words\n",
        "\n",
        "plt.figure(figsize=(24, 15))\n",
        "plt.scatter(T[:, 0], T[:, 1], c='lightgreen', edgecolors='g')\n",
        "\n",
        "for label, x, y in list(zip(labels, T[:, 0], T[:, 1]))[::8]: ## 8 represent the steps for the labels to appear \n",
        "    plt.annotate(label,\n",
        "                 xy=(x + 5, y + 5),\n",
        "                 xytext=(0, 0),\n",
        "                 textcoords='offset points')\n",
        "plt.show()"
      ],
      "metadata": {
        "colab": {
          "base_uri": "https://localhost:8080/",
          "height": 934
        },
        "id": "0Oq4uqKt41zv",
        "outputId": "ee7f4817-c5eb-4a08-8a19-8cb2e084dea2"
      },
      "execution_count": 18,
      "outputs": [
        {
          "output_type": "stream",
          "name": "stderr",
          "text": [
            "/usr/local/lib/python3.7/dist-packages/sklearn/manifold/_t_sne.py:783: FutureWarning: The default initialization in TSNE will change from 'random' to 'pca' in 1.2.\n",
            "  FutureWarning,\n",
            "/usr/local/lib/python3.7/dist-packages/sklearn/manifold/_t_sne.py:793: FutureWarning: The default learning rate in TSNE will change from 200.0 to 'auto' in 1.2.\n",
            "  FutureWarning,\n"
          ]
        },
        {
          "output_type": "display_data",
          "data": {
            "text/plain": [
              "<Figure size 1728x1080 with 1 Axes>"
            ],
            "image/png": "[encoded data removed]"
          },
          "metadata": {
            "needs_background": "light"
          }
        }
      ]
    },
    {
      "cell_type": "markdown",
      "source": [
        "### Plot bacteriophage semantic space"
      ],
      "metadata": {
        "id": "voc-DPnBQf31"
      }
    },
    {
      "cell_type": "code",
      "source": [
        "from sklearn.manifold import TSNE\n",
        "\n",
        "words = w2vmodel_phage.wv.index2word[0:]      ## get the word forms of voculary sample\n",
        "wvs = w2vmodel_phage.wv[words]                     ## get embeddings of word forms\n",
        "\n",
        "tsne = TSNE(n_components=2, random_state=0, n_iter=5000, perplexity=5)\n",
        "np.set_printoptions(suppress=True)\n",
        "T = tsne.fit_transform(wvs)\n",
        "labels = words\n",
        "\n",
        "plt.figure(figsize=(24, 15))\n",
        "plt.scatter(T[:, 0], T[:, 1], c='lightgreen', edgecolors='g')\n",
        "\n",
        "for label, x, y in list(zip(labels, T[:, 0], T[:, 1]))[::]:\n",
        "    plt.annotate(label,\n",
        "                 xy=(x + 5, y + 5),\n",
        "                 xytext=(0, 0),\n",
        "                 textcoords='offset points')\n",
        "plt.show()"
      ],
      "metadata": {
        "colab": {
          "base_uri": "https://localhost:8080/",
          "height": 934
        },
        "id": "1dkVsGiNQey-",
        "outputId": "291d61f5-59bd-4abf-d4f6-0da7ac995a45"
      },
      "execution_count": 20,
      "outputs": [
        {
          "output_type": "stream",
          "name": "stderr",
          "text": [
            "/usr/local/lib/python3.7/dist-packages/sklearn/manifold/_t_sne.py:783: FutureWarning: The default initialization in TSNE will change from 'random' to 'pca' in 1.2.\n",
            "  FutureWarning,\n",
            "/usr/local/lib/python3.7/dist-packages/sklearn/manifold/_t_sne.py:793: FutureWarning: The default learning rate in TSNE will change from 200.0 to 'auto' in 1.2.\n",
            "  FutureWarning,\n"
          ]
        },
        {
          "output_type": "display_data",
          "data": {
            "text/plain": [
              "<Figure size 1728x1080 with 1 Axes>"
            ],
            "image/png": "[encoded data removed]"
          },
          "metadata": {
            "needs_background": "light"
          }
        }
      ]
    },
    {
      "cell_type": "markdown",
      "source": [
        "####  Replot bacteriophage semantic space without outliars"
      ],
      "metadata": {
        "id": "FCrtF5fbRQVe"
      }
    },
    {
      "cell_type": "code",
      "source": [
        "words = w2vmodel_phage.wv.index2word[0:]      ## get the word forms of voculary sample\n",
        "words = [word for word in words if word not in [\"life\", \"many\"]] ## remove outliars\n",
        "\n",
        "wvs = w2vmodel_phage.wv[words]                     ## get embeddings of word forms\n",
        "\n",
        "tsne = TSNE(n_components=2, random_state=0, n_iter=5000, perplexity=5)\n",
        "np.set_printoptions(suppress=True)\n",
        "T = tsne.fit_transform(wvs)\n",
        "labels = words\n",
        "\n",
        "plt.figure(figsize=(24, 15))\n",
        "plt.scatter(T[:, 0], T[:, 1], c='lightgreen', edgecolors='g')\n",
        "\n",
        "for label, x, y in list(zip(labels, T[:, 0], T[:, 1]))[::]:\n",
        "    plt.annotate(label,\n",
        "                 xy=(x + 5, y + 5),\n",
        "                 xytext=(0, 0),\n",
        "                 textcoords='offset points')\n",
        "plt.show()"
      ],
      "metadata": {
        "colab": {
          "base_uri": "https://localhost:8080/",
          "height": 934
        },
        "id": "WRSRK33HQ_GD",
        "outputId": "79918f10-e18c-4f11-c513-88eb8a2f890b"
      },
      "execution_count": 21,
      "outputs": [
        {
          "output_type": "stream",
          "name": "stderr",
          "text": [
            "/usr/local/lib/python3.7/dist-packages/sklearn/manifold/_t_sne.py:783: FutureWarning: The default initialization in TSNE will change from 'random' to 'pca' in 1.2.\n",
            "  FutureWarning,\n",
            "/usr/local/lib/python3.7/dist-packages/sklearn/manifold/_t_sne.py:793: FutureWarning: The default learning rate in TSNE will change from 200.0 to 'auto' in 1.2.\n",
            "  FutureWarning,\n"
          ]
        },
        {
          "output_type": "display_data",
          "data": {
            "text/plain": [
              "<Figure size 1728x1080 with 1 Axes>"
            ],
            "image/png": "[encoded data removed]"
          },
          "metadata": {
            "needs_background": "light"
          }
        }
      ]
    },
    {
      "cell_type": "markdown",
      "source": [
        "Insights (words2Vec - window = 5):  \n",
        "No distinct groups are visible within the bacteriophage semantic space.  \n",
        "On the other hand, several clusters are visible at the Bacteria group semantic space.\n"
      ],
      "metadata": {
        "id": "8gYr6cnyRvVl"
      }
    },
    {
      "cell_type": "markdown",
      "source": [
        "## Compare embedding models\n",
        "Comparing embedding of top 5 frequent words between different models"
      ],
      "metadata": {
        "id": "ggFz6hXWTrUT"
      }
    },
    {
      "cell_type": "markdown",
      "source": [
        "### Find top 5 frequent words from each group - Bacteria and Bacteriophage\n"
      ],
      "metadata": {
        "id": "OEM9i0NuUDl7"
      }
    },
    {
      "cell_type": "code",
      "source": [
        "'''\n",
        "Function which return the frequancy of the selected gram number for the text\n",
        "'''\n",
        "def get_top_n_words(corpus, n=None, x=1, y=1):\n",
        "    vec = CountVectorizer(ngram_range=(x, y)).fit(corpus)\n",
        "    bag_of_words = vec.transform(corpus)\n",
        "    sum_words = bag_of_words.sum(axis=0) \n",
        "    words_freq = [(word, sum_words[0, idx]) for word, idx in vec.vocabulary_.items()]\n",
        "    words_freq =sorted(words_freq, key = lambda x: x[1], reverse=True)\n",
        "    return words_freq[:n]"
      ],
      "metadata": {
        "id": "_fioCdJzEcY_"
      },
      "execution_count": 145,
      "outputs": []
    },
    {
      "cell_type": "code",
      "source": [
        "## For the word count we will use the clean text (No stopwords and with lemmitisation of the words)\n",
        "## Get all description texts\n",
        "all_desc_bacteria = df.loc[df[\"Type\"]==\"Bacteria\",\"Description_clean\"]\n",
        "all_desc_phage = df.loc[df[\"Type\"]==\"Bacteriophage\",\"Description_clean\"]\n",
        "\n",
        "'''\n",
        "Plotting top 5 Unigram of bacteria vs bacteriophage\n",
        "'''\n",
        "## Calculating unigram\n",
        "common_words_bacteria = get_top_n_words(all_desc_bacteria, 5)\n",
        "common_words_phage = get_top_n_words(all_desc_phage, 5)\n",
        "unigrams_bacteria = pd.DataFrame(common_words_bacteria, columns = ['word' , 'count'])\n",
        "unigrams_bacteriophage = pd.DataFrame(common_words_phage, columns = ['word' , 'count'])\n",
        "\n",
        "## Plotting\n",
        "fix, (ax1, ax2) = plt.subplots(1,2, figsize=(20,8))\n",
        "sns.barplot(x=\"count\", y=\"word\",orient=\"h\",ax = ax1, palette=\"mako\", data=unigrams_bacteria)\n",
        "ax1.set_title(\"Bacteria- unigram lemmatization w/o stopwords \")\n",
        "sns.barplot(x=\"count\", y=\"word\",orient=\"h\", ax =ax2, palette=\"mako\", data=unigrams_bacteriophage)\n",
        "ax2.set_title(\"Bacteriophage- unigram lemmatization w/o stopwords \")\n",
        "plt.tight_layout\n",
        "plt.show()"
      ],
      "metadata": {
        "colab": {
          "base_uri": "https://localhost:8080/",
          "height": 513
        },
        "id": "dOzRuCBWEdOi",
        "outputId": "fdbcb77d-93f9-4f1e-81e2-9465268e60b7"
      },
      "execution_count": 146,
      "outputs": [
        {
          "output_type": "display_data",
          "data": {
            "text/plain": [
              "<Figure size 1440x576 with 2 Axes>"
            ],
            "image/png": "[encoded data removed]"
          },
          "metadata": {
            "needs_background": "light"
          }
        }
      ]
    },
    {
      "cell_type": "markdown",
      "source": [
        "### Bacteria\n"
      ],
      "metadata": {
        "id": "bEgljKlIFBpF"
      }
    },
    {
      "cell_type": "code",
      "source": [
        "## Assigning top 5 bacteria words to a list\n",
        "top5_bacteria = []\n",
        "\n",
        "for i in common_words_bacteria[0:5]:\n",
        "  top5_bacteria.append(i[0])\n",
        "\n",
        "print(\"Top 5 frequent bacteria words: {}\".format(top5_bacteria))"
      ],
      "metadata": {
        "colab": {
          "base_uri": "https://localhost:8080/"
        },
        "id": "97Q9vnLQF-hR",
        "outputId": "00dd0fb6-44c3-4466-c4c5-f5087a4bc422"
      },
      "execution_count": 147,
      "outputs": [
        {
          "output_type": "stream",
          "name": "stdout",
          "text": [
            "Top 5 frequent bacteria words: ['specie', 'human', 'cause', 'genus', 'bacteria']\n"
          ]
        }
      ]
    },
    {
      "cell_type": "markdown",
      "source": [
        "**Model 1 - Words2Vec window = 5**"
      ],
      "metadata": {
        "id": "d3pGP4WTVnEV"
      }
    },
    {
      "cell_type": "code",
      "source": [
        "# View similar words based on gensim's model\n",
        "model1_bacteria = {\n",
        "    search_term:\n",
        "    [item[0] for item in w2vmodel_bacteria.wv.most_similar([search_term], topn=5)]\n",
        "    for search_term in top5_bacteria \n",
        "}\n",
        "model1 = pd.DataFrame(model1_bacteria).T"
      ],
      "metadata": {
        "id": "QrxFNKg9FBPu"
      },
      "execution_count": 148,
      "outputs": []
    },
    {
      "cell_type": "markdown",
      "source": [
        "**Model 2 - Words2Vec window = 15**"
      ],
      "metadata": {
        "id": "RQ3xu7u7WAGD"
      }
    },
    {
      "cell_type": "code",
      "source": [
        "# Set values for various parameters\n",
        "feature_size = 100  # Word vector dimensionality\n",
        "window_context = 15  # Context window size\n",
        "min_word_count = 5  # Minimum word count\n",
        "\n",
        "## Train the model on the bacteria class\n",
        "sentences = df.loc[df.Type == \"Bacteria\", \"tokens\"]\n",
        "w2vmodel_bacteria_15 = Word2Vec(sentences=sentences, size=feature_size, window=window_context, min_count=min_word_count, sg = 0)\n",
        "\n",
        "## Train the model on the bacteriophage class\n",
        "sentences = df.loc[df.Type == \"Bacteriophage\", \"tokens\"]\n",
        "w2vmodel_phage_15 = Word2Vec(sentences=sentences, size=feature_size, window=window_context, min_count=min_word_count, sg = 0)"
      ],
      "metadata": {
        "id": "WGB2F04GV8U3"
      },
      "execution_count": 149,
      "outputs": []
    },
    {
      "cell_type": "code",
      "source": [
        "# View similar words based on gensim's model\n",
        "model2_bacteria = {\n",
        "    search_term:\n",
        "    [item[0] for item in w2vmodel_bacteria_15.wv.most_similar([search_term], topn=5)]\n",
        "    for search_term in top5_bacteria \n",
        "}\n",
        "model2 = pd.DataFrame(model2_bacteria).T"
      ],
      "metadata": {
        "id": "bOYSy826WW_b"
      },
      "execution_count": 150,
      "outputs": []
    },
    {
      "cell_type": "markdown",
      "source": [
        "**Model 3 - gloveglove-wiki-gigaword-100**\n"
      ],
      "metadata": {
        "id": "kHbdL9aNW3mz"
      }
    },
    {
      "cell_type": "code",
      "source": [
        "import gensim.downloader as api\n",
        "\n",
        "# Download the pretrained Glove embeddings. Try fasttext at home.\n",
        "glove_vectors = api.load(\"glove-wiki-gigaword-100\")                            ## Glove vectors"
      ],
      "metadata": {
        "id": "lGDw1ehAXFMm"
      },
      "execution_count": 151,
      "outputs": []
    },
    {
      "cell_type": "code",
      "source": [
        "# View similar words based on glove's model\n",
        "model3_bacteria = {\n",
        "    search_term:\n",
        "    [item[0] for item in glove_vectors.most_similar([search_term], topn=5)]\n",
        "    for search_term in top5_bacteria \n",
        "}\n",
        "model3= pd.DataFrame(model3_bacteria).T"
      ],
      "metadata": {
        "id": "BkmU2JW1XQoz"
      },
      "execution_count": 152,
      "outputs": []
    },
    {
      "cell_type": "code",
      "source": [
        "print(\"Model1 - word2vec window=5: \\n {} \\n\".format(model1))\n",
        "print(\"Model2 - word2vec window=15: \\n {} \\n\".format(model2))\n",
        "print(\"Model3 - glove: \\n {} \\n\".format(model3))"
      ],
      "metadata": {
        "colab": {
          "base_uri": "https://localhost:8080/"
        },
        "id": "Dwj0ihTWpU6r",
        "outputId": "9e92dca9-ab02-45ac-c954-3f38847620b1"
      },
      "execution_count": 153,
      "outputs": [
        {
          "output_type": "stream",
          "name": "stdout",
          "text": [
            "Model1 - word2vec window=5: \n",
            "                0          1          2          3        4\n",
            "specie     human   bacteria      cause       form    genus\n",
            "human     specie      cause  infection   bacteria     also\n",
            "cause     specie   bacteria      human  bacterium     also\n",
            "genus     specie   bacteria       cell  infection  disease\n",
            "bacteria  specie  infection      cause      genus    human \n",
            "\n",
            "Model2 - word2vec window=15: \n",
            "                  0          1          2      3          4\n",
            "specie    bacteria      human    disease  cause      genus\n",
            "human       specie       also  infection  cause   bacteria\n",
            "cause       specie   bacteria      human   also  bacterium\n",
            "genus       specie   bacteria    disease   cell  infection\n",
            "bacteria    specie  infection      cause  genus  bacterium \n",
            "\n",
            "Model3 - glove: \n",
            "                   0              1               2          3          4\n",
            "specie         waka  disbursements       riksdaler    offtake        s-1\n",
            "human        animal         rights          humans    animals       body\n",
            "cause        causes         caused         causing     damage     result\n",
            "genus        genera        species           moths      fungi  subfamily\n",
            "bacteria  bacterium       microbes  microorganisms  pathogens  bacterial \n",
            "\n"
          ]
        }
      ]
    },
    {
      "cell_type": "markdown",
      "source": [
        "Key insights Bacteria:\n",
        "- Only a small difference is visible between model 1 and model 2 results although we changed the window size.\n",
        "One possible option for those results is our use of the clean tokenized column as our input. By using this column which has no stop words and only lemmatized words as an input we probably removed most of the structure of the sentence effects on the model (which other wise should be visible in model1 with the smaller window size). \n",
        "\n",
        "- While the results for models 1 and 2 are specific for our domain, the results of model 3 relate to the relationship of the words from other domain as well (the model was trained with a more diverse data).\n",
        "- Most of the results in model 3 are different then those of model 1 and 2\n",
        "- By looking at the results of model 3 we can see that  the model was trained with the non lemmatized form of the tokens.\n",
        " \n",
        "\n"
      ],
      "metadata": {
        "id": "U7ImTDEIYVTP"
      }
    },
    {
      "cell_type": "markdown",
      "source": [
        "### Bacteriophage\n"
      ],
      "metadata": {
        "id": "Amz6VvJPvcLB"
      }
    },
    {
      "cell_type": "code",
      "source": [
        "top5_phage = []\n",
        "for i in common_words_phage[0:5]:\n",
        "  top5_phage.append(i[0])\n",
        "print(\"Top 5 bacteriophage: {}\".format(top5_phage)) "
      ],
      "metadata": {
        "colab": {
          "base_uri": "https://localhost:8080/"
        },
        "outputId": "ec6815b4-b252-4491-891a-296995c7500d",
        "id": "Ixb5nYugvcLC"
      },
      "execution_count": 154,
      "outputs": [
        {
          "output_type": "stream",
          "name": "stdout",
          "text": [
            "Top 5 bacteriophage: ['phage', 'bacteriophage', 'virus', 'cell', 'dna']\n"
          ]
        }
      ]
    },
    {
      "cell_type": "markdown",
      "source": [
        "**Model 1 - Words2Vec window = 5**"
      ],
      "metadata": {
        "id": "4DxdnWiAvcLD"
      }
    },
    {
      "cell_type": "code",
      "source": [
        "# View similar words based on gensim's model\n",
        "model1_phage = {\n",
        "    search_term:\n",
        "    [item[0] for item in w2vmodel_phage.wv.most_similar([search_term], topn=5)]\n",
        "    for search_term in top5_phage \n",
        "}\n",
        "model1 = pd.DataFrame(model1_phage).T"
      ],
      "metadata": {
        "id": "RPh5KmXLvcLD"
      },
      "execution_count": 155,
      "outputs": []
    },
    {
      "cell_type": "markdown",
      "source": [
        "**Model 2 - Words2Vec window = 15**"
      ],
      "metadata": {
        "id": "VHWeqd_nvcLE"
      }
    },
    {
      "cell_type": "code",
      "source": [
        "# View similar words based on gensim's model\n",
        "model2_phage = {\n",
        "    search_term:\n",
        "    [item[0] for item in w2vmodel_phage_15.wv.most_similar([search_term], topn=5)]\n",
        "    for search_term in top5_phage\n",
        "}\n",
        "model2 = pd.DataFrame(model2_phage).T"
      ],
      "metadata": {
        "id": "t4Mej8JrvcLF"
      },
      "execution_count": 156,
      "outputs": []
    },
    {
      "cell_type": "markdown",
      "source": [
        "**Model 3 - gloveglove-wiki-gigaword-100**\n"
      ],
      "metadata": {
        "id": "cHF9UTukvcLF"
      }
    },
    {
      "cell_type": "code",
      "source": [
        "# View similar words based on glove's model\n",
        "model3_phage = {\n",
        "    search_term:\n",
        "    [item[0] for item in glove_vectors.most_similar([search_term], topn=5)]\n",
        "    for search_term in top5_phage\n",
        "}\n",
        "model3= pd.DataFrame(model3_phage).T"
      ],
      "metadata": {
        "id": "gra97EUQvcLG"
      },
      "execution_count": 157,
      "outputs": []
    },
    {
      "cell_type": "code",
      "source": [
        "print(\"Model1 - word2vec window=5: \\n {} \\n\".format(model1))\n",
        "print(\"Model2 - word2vec window=15: \\n {} \\n\".format(model2))\n",
        "print(\"Model3 - glove: \\n {} \\n\".format(model3))"
      ],
      "metadata": {
        "colab": {
          "base_uri": "https://localhost:8080/"
        },
        "outputId": "9b3bdb01-669b-48a2-86bd-5cb0fb28e493",
        "id": "wYvAyT26vcLH"
      },
      "execution_count": 158,
      "outputs": [
        {
          "output_type": "stream",
          "name": "stdout",
          "text": [
            "Model1 - word2vec window=5: \n",
            "                         0            1              2           3         4\n",
            "phage              system    bacterial         family   treatment    infect\n",
            "bacteriophage      genome         cell         called        also  bacteria\n",
            "virus           bacterial   chromosome           cell       known      host\n",
            "cell                virus  filamentous  bacteriophage  chromosome    within\n",
            "dna            chromosome  restriction      bacterial        name    strain \n",
            "\n",
            "Model2 - word2vec window=15: \n",
            "                            0       1              2              3          4\n",
            "phage          bacteriophage  system         genome      bacterial      virus\n",
            "bacteriophage          phage    cell         genome       bacteria      cycle\n",
            "virus                  phage    cell      bacterial  bacteriophage       host\n",
            "cell           bacteriophage   phage          virus            dna  bacterial\n",
            "dna              restriction   phage  bacteriophage      bacterial       cell \n",
            "\n",
            "Model3 - glove: \n",
            "                            0               1         2             3  \\\n",
            "phage          bacteriophage  bacteriophages  hookworm            t4   \n",
            "bacteriophage          phage              t7        t4      hookworm   \n",
            "virus                    flu       influenza      h5n1       viruses   \n",
            "cell                   cells        cellular     brain        tissue   \n",
            "dna                  genetic         samples     genes  fingerprints   \n",
            "\n",
            "                            4  \n",
            "phage                   hiv-1  \n",
            "bacteriophage  bacteriophages  \n",
            "virus                infected  \n",
            "cell                embryonic  \n",
            "dna               replication   \n",
            "\n"
          ]
        }
      ]
    },
    {
      "cell_type": "markdown",
      "source": [
        "Key insights Bacteriophage:\n",
        "- Bigger differances between model1 and model2 can be seen within the Bacteriophage group (in relation to the Bacteria group). This is potentially due to the smaller sample size.\n",
        "\n",
        "- In general, I would have expected that the results of the words phage and bacteriophage in model 3 would be similar to the results in model 1 and 2, this is due to thier specificity. Nevertheless, it seems as if this is not the case, and the only common words are just the lemmatized form of the words themself.  \n",
        "One assumption is that while our data cover the full reange of Bacteriphages evenly, with no biases (one summary for each type of bacteriophage), the data that the glove model is trained on is on one hand wider but on the other hand unbalanced. In this case \"Popular\" bacteriophages and thier use cases would probably have bigger presence in the data. (e.g., use of phages in the field of HIV-1)\n",
        "\n",
        "\n"
      ],
      "metadata": {
        "id": "1eriatiMvcLH"
      }
    },
    {
      "cell_type": "markdown",
      "source": [
        "## WordNet"
      ],
      "metadata": {
        "id": "mXxsgIJMr2-k"
      }
    },
    {
      "cell_type": "code",
      "source": [
        "## Looking for similar type of speach for the most frequent words\n",
        "## Bacteria\n",
        "from nltk.corpus import wordnet as wn\n",
        "n = 0\n",
        "for i in top5_bacteria:\n",
        "  tmp = wn.synsets(i)[0].similar_tos()\n",
        "  if len(tmp) > 0:\n",
        "     n+=1\n",
        "     print(tmp)\n",
        " \n",
        "if n == 0:\n",
        "  print(\"No similar type of speech for any of the words\") "
      ],
      "metadata": {
        "colab": {
          "base_uri": "https://localhost:8080/"
        },
        "id": "V6UyRLcpqCk5",
        "outputId": "909b6a63-c5c3-40b1-ac2e-4ac65e6c235a"
      },
      "execution_count": 143,
      "outputs": [
        {
          "output_type": "stream",
          "name": "stdout",
          "text": [
            "No similar type of speech for any of the words\n"
          ]
        }
      ]
    },
    {
      "cell_type": "code",
      "source": [
        "## Phage\n",
        "n = 0\n",
        "for i in top5_phage:\n",
        "  tmp = wn.synsets(i)[0].similar_tos()\n",
        "  if len(tmp) > 0:\n",
        "     n+=1\n",
        "     print(tmp)\n",
        " \n",
        "if n == 0:\n",
        "  print(\"No similar type of speech for any of the words\") "
      ],
      "metadata": {
        "colab": {
          "base_uri": "https://localhost:8080/"
        },
        "id": "Enoyund6qEb2",
        "outputId": "3840392a-9e1d-4ad0-a2d7-c09949879410"
      },
      "execution_count": 144,
      "outputs": [
        {
          "output_type": "stream",
          "name": "stdout",
          "text": [
            "No similar type of speech for any of the words\n"
          ]
        }
      ]
    },
    {
      "cell_type": "markdown",
      "source": [
        "No similar type of speech for any of the top 5 frequent words in both categories were found.   \n",
        "Not like the word embedding models who aim to find similarities based on context of the word, the main relation among words in WordNet is synonymy, hance, the comparison between the results using wordnet to the embedded models we worked with in this notebook would not be relevant."
      ],
      "metadata": {
        "id": "n13IenYpsc_H"
      }
    }
  ]
}