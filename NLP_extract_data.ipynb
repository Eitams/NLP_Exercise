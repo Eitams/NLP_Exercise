{
  "nbformat": 4,
  "nbformat_minor": 0,
  "metadata": {
    "colab": {
      "name": "NLP_1_extract_data.ipynb",
      "provenance": [],
      "collapsed_sections": [],
      "authorship_tag": "ABX9TyNMA5nRkQ1JPVHaVGw8CLzp",
      "include_colab_link": true
    },
    "kernelspec": {
      "name": "python3",
      "display_name": "Python 3"
    },
    "language_info": {
      "name": "python"
    },
    "accelerator": "GPU"
  },
  "cells": [
    {
      "cell_type": "markdown",
      "metadata": {
        "id": "view-in-github",
        "colab_type": "text"
      },
      "source": [
        "<a href=\"https://colab.research.google.com/github/Eitams/NLP_Exercise/blob/main/NLP_extract_data.ipynb\" target=\"_parent\"><img src=\"https://colab.research.google.com/assets/colab-badge.svg\" alt=\"Open In Colab\"/></a>"
      ]
    },
    {
      "cell_type": "markdown",
      "source": [
        "# Text analysis - Bacteria VS Bactriophage\n",
        "The following two part notebook is part of an NLP course exercise aiming to analyse data extracted from wikipedia based on text analysis parameters.  \n",
        "In the first notebook the data was extracted from wikipedia and in the second notebook an exploration of the two extracted data classes was performed.\n",
        "\n",
        "## Intro\n",
        "Bacteria are small single-celled microorganisms, which were among the first life forms to appear on earth and are present in most of its habitats. Though some bacteria may be pathogenic to human, most bacteria are not, and many bacteria occupy different sites in the human body and perform essential roles in body maintenance. In fact, the human body is estimated to contain about 10 times more bacterial cells than human cells.  \n",
        "  \n",
        "The natural enemies of bacteria in the evolutionary race are bacteriophages. A bacteriophage (often abbreviated to “phage”) is a virus that infects and replicates within bacteria. \n",
        "\n",
        "Notebooks author: Eitam Shafran\n",
        "## Part 1 - Extracting data from wikipedia"
      ],
      "metadata": {
        "id": "NHrERliFvjZG"
      }
    },
    {
      "cell_type": "code",
      "source": [
        "## Install wikipedia api\n",
        "!pip install wikipedia-api"
      ],
      "metadata": {
        "colab": {
          "base_uri": "https://localhost:8080/"
        },
        "id": "U-6EJGDjv_n2",
        "outputId": "605edbd8-2a25-41e8-fc55-3f2693524bb4"
      },
      "execution_count": null,
      "outputs": [
        {
          "output_type": "stream",
          "name": "stdout",
          "text": [
            "Collecting wikipedia-api\n",
            "  Downloading Wikipedia-API-0.5.4.tar.gz (18 kB)\n",
            "Requirement already satisfied: requests in /usr/local/lib/python3.7/dist-packages (from wikipedia-api) (2.23.0)\n",
            "Requirement already satisfied: idna<3,>=2.5 in /usr/local/lib/python3.7/dist-packages (from requests->wikipedia-api) (2.10)\n",
            "Requirement already satisfied: certifi>=2017.4.17 in /usr/local/lib/python3.7/dist-packages (from requests->wikipedia-api) (2021.10.8)\n",
            "Requirement already satisfied: urllib3!=1.25.0,!=1.25.1,<1.26,>=1.21.1 in /usr/local/lib/python3.7/dist-packages (from requests->wikipedia-api) (1.24.3)\n",
            "Requirement already satisfied: chardet<4,>=3.0.2 in /usr/local/lib/python3.7/dist-packages (from requests->wikipedia-api) (3.0.4)\n",
            "Building wheels for collected packages: wikipedia-api\n",
            "  Building wheel for wikipedia-api (setup.py) ... \u001b[?25l\u001b[?25hdone\n",
            "  Created wheel for wikipedia-api: filename=Wikipedia_API-0.5.4-py3-none-any.whl size=13477 sha256=bcac39e72ec103e14db0d48fdbfe41c1ab193937cf164d96af90ae8becb5a7ae\n",
            "  Stored in directory: /root/.cache/pip/wheels/d3/24/56/58ba93cf78be162451144e7a9889603f437976ef1ae7013d04\n",
            "Successfully built wikipedia-api\n",
            "Installing collected packages: wikipedia-api\n",
            "Successfully installed wikipedia-api-0.5.4\n"
          ]
        }
      ]
    },
    {
      "cell_type": "code",
      "source": [
        "## Mount drive\n",
        "from google.colab import drive\n",
        "drive.mount('/content/drive')\n",
        "#import os\n",
        "#os.chdir('/content/drive/MyDrive/NLP')"
      ],
      "metadata": {
        "colab": {
          "base_uri": "https://localhost:8080/"
        },
        "id": "U0fI1jy8Avk3",
        "outputId": "a12e37a5-8c1a-4839-c891-52fa6faba0a2"
      },
      "execution_count": null,
      "outputs": [
        {
          "output_type": "stream",
          "name": "stdout",
          "text": [
            "Mounted at /content/drive\n"
          ]
        }
      ]
    },
    {
      "cell_type": "code",
      "source": [
        "import wikipediaapi\n",
        "import pandas as pd\n",
        "\n",
        "## Set up environment\n",
        "pd.set_option('display.max_columns', None)\n",
        "#pd.set_option('display.expand_frame_repr', False)\n",
        "pd.set_option('max_colwidth', None)"
      ],
      "metadata": {
        "id": "hHQoyQseJIqr"
      },
      "execution_count": null,
      "outputs": []
    },
    {
      "cell_type": "code",
      "source": [
        "# Define language and page\n",
        "wiki = wikipediaapi.Wikipedia('en')\n",
        "\n",
        "# collect wiki page data in a variable \n",
        "bacteria = wiki.page(\"List_of_clinically_important_bacteria\")\n",
        "bacteriophage = wiki.page(\"Category:Bacteriophages\")\n",
        "# viruses = wiki.page(\"List_of_virus_species\") ## Was not used in the in the final dataframe"
      ],
      "metadata": {
        "id": "r2kmgu1_J-WB"
      },
      "execution_count": null,
      "outputs": []
    },
    {
      "cell_type": "code",
      "source": [
        "'''\n",
        "Function- extreact links from wikipedia bacteria page.\n",
        "The function filter the bacteria pages links from the other links in the page\n",
        "and returns only them with a short description as a dictionary.\n",
        "*The page is not a category\n",
        "'''\n",
        "def bacteria_link_collector(category):\n",
        "  ## The bacteria pages section titles are a letter- we used this to find the names of the wanted pages\n",
        "  import re\n",
        "  category_names =[]\n",
        "  pattern = re.compile(\"[A-Za-z]\")\n",
        "  for i in category.sections:\n",
        "    if pattern.fullmatch(i.title): ## if section name= letter\n",
        "      tmp=i.text.split('\\n')\n",
        "      for name in tmp:\n",
        "        category_names.append(name) ## add name of links under section to list\n",
        "  \n",
        "  ## Extract the summary of all links which exist in the category_name list and have data inside\n",
        "  mdict = {}\n",
        "  links = category.links\n",
        "  for c in links.values():\n",
        "     if c.ns == 0 and c.title in category_names and len(c.summary[0:1])>0:                                                            # Exclude categories within the category\n",
        "        mdict[c.title] = c.summary ## Assign to dict\n",
        "  return mdict"
      ],
      "metadata": {
        "id": "GAMY4w7r5Qam"
      },
      "execution_count": null,
      "outputs": []
    },
    {
      "cell_type": "code",
      "source": [
        "# Get members for a category together with a short description\n",
        "def Bacteriophage_collector(category):\n",
        "      mdict = {}\n",
        "      categorymembers = category.categorymembers\n",
        "      for c in categorymembers.values():\n",
        "        if c.ns == 0:                                                            # Exclude categories within the category\n",
        "          mdict[c.title] = c.summary\n",
        "      return mdict"
      ],
      "metadata": {
        "id": "BBPcf_3pE-nM"
      },
      "execution_count": null,
      "outputs": []
    },
    {
      "cell_type": "code",
      "source": [
        "# Get all links in a list together with a short description\n",
        "def virus_link_collector(category):\n",
        "  mdict = {}\n",
        "  links = category.links\n",
        "  for c in links.values():\n",
        "     if c.ns == 0 and len(c.summary[0:1])>0:                                                            # Exclude categories within the category\n",
        "        mdict[c.title] = c.summary\n",
        "  return mdict\n"
      ],
      "metadata": {
        "id": "QWk9ZKvYbFWC"
      },
      "execution_count": null,
      "outputs": []
    },
    {
      "cell_type": "code",
      "source": [
        "bacteria_dic = bacteria_link_collector(bacteria)\n",
        "bacteriophage_dic = Bacteriophage_collector(bacteriophage)\n",
        "#virus_dic = virus_link_collector(viruses)"
      ],
      "metadata": {
        "id": "EboyThsr8_uM"
      },
      "execution_count": null,
      "outputs": []
    },
    {
      "cell_type": "code",
      "source": [
        "# Transform dictionaries to dataframes \n",
        "\n",
        "# Bacteria\n",
        "bacteria_df = pd.DataFrame([bacteria_dic.keys(), bacteria_dic.values()]).T\n",
        "bacteria_df.columns = ['Name', 'Description']\n",
        "bacteria_df_style = bacteria_df.style.set_properties(**{'text-align': 'left'}).set_table_styles([dict(selector='th', props=[('text-align', 'left')])])\n",
        "\n",
        "# bacteriophage\n",
        "bacteriophage_df = pd.DataFrame([bacteriophage_dic.keys(), bacteriophage_dic.values()]).T\n",
        "bacteriophage_df.columns = ['Name', 'Description']\n",
        "bacteriophage_df_style = bacteriophage_df.style.set_properties(**{'text-align': 'left'}).set_table_styles([dict(selector='th', props=[('text-align', 'left')])])\n",
        "\n",
        "# Viruses\n",
        "#viruses_df = pd.DataFrame([virus_dic.keys(), virus_dic.values()]).T\n",
        "#viruses_df.columns = ['Name', 'Description']\n",
        "#viruses_df_style = viruses_df.style.set_properties(**{'text-align': 'left'}).set_table_styles([dict(selector='th', props=[('text-align', 'left')])])"
      ],
      "metadata": {
        "id": "uke3batfKou6"
      },
      "execution_count": null,
      "outputs": []
    },
    {
      "cell_type": "code",
      "source": [
        "bacteria_df.head()"
      ],
      "metadata": {
        "colab": {
          "base_uri": "https://localhost:8080/",
          "height": 667
        },
        "id": "ytSCQ-3nBq3W",
        "outputId": "7a8ff13f-4788-4ef3-b2d5-84bbd2ebf2f6"
      },
      "execution_count": null,
      "outputs": [
        {
          "output_type": "execute_result",
          "data": {
            "text/plain": [
              "                        Name  \\\n",
              "0         Frateuria aurantia   \n",
              "1    Acinetobacter baumannii   \n",
              "2       Actinomyces israelii   \n",
              "3  Agrobacterium tumefaciens   \n",
              "4                  Anaplasma   \n",
              "\n",
              "                                                                                                                                                                                                                                                                                                                                                                                                                                                                                                                                                                                                                                                                                                                                                                                                                                                                                                                                                                                                                                                                                                                                                                                                                                                                                                                                                                                                                                                                                                                                                                                                                                                                                                                                                                                                                                                                                                                                                                                                                                                                                                                                                                                                                                                                                                                                                                                                                                                                                                                                                                Description  \n",
              "0                                                                                                                                                                                                                                                                                                                                                                                                                                                                                                                                                                                                                                                                                                                                                                                                                                                                                                                                                                                                                                                                                                                                                                                                                                                                                                                                                                                                                                                                                                                                                                                                                                                                                                                                                                                                                                                                                                                                                                                                                                                                                                                                                                                                                                                               Frateuria aurantia is a species of bacteria. It is named after the Belgian microbiologist Joseph Frateur. The cells are mostly straight rods. Frateuria aurantia was isolated from the plant Lilium auratum and from the fruit of the raspberry Rubus parvifolius. It is a potassium solubilizing bacteria.  \n",
              "1  Acinetobacter baumannii is a typically short, almost round, rod-shaped (coccobacillus) Gram-negative bacterium. It is named after the bacteriologist Paul Baumann. It can be an opportunistic pathogen in humans, affecting people with compromised immune systems, and is becoming increasingly important as a hospital-derived (nosocomial) infection. While other species of the genus Acinetobacter are often found in soil samples (leading to the common misconception that A. baumannii is a soil organism, too), it is almost exclusively isolated from hospital environments. Although occasionally it has been found in environmental soil and water samples, its natural habitat is still not known.\\nBacteria of this genus lack flagella, whip-like structures many bacteria use for locomotion, but exhibit twitching or swarming motility. This may be due to the activity of type IV pili, pole-like structures that can be extended and retracted. Motility in A. baumannii may also be due to the excretion of exopolysaccharide, creating a film of high-molecular-weight sugar chains behind the bacterium to move forward. Clinical microbiologists typically differentiate members of the genus Acinetobacter from other Moraxellaceae by performing an oxidase test, as Acinetobacter spp. are the only members of the Moraxellaceae to lack cytochrome c oxidases.A. baumannii is part of the ACB complex (A. baumannii, A. calcoaceticus, and Acinetobacter genomic species 13TU). It is difficult to determine the specific species of members of the ACB complex and they comprise the most clinically relevant members of the genus. A. baumannii has also been identified as an ESKAPE pathogen (Enterococcus faecium, Staphylococcus aureus, Klebsiella pneumoniae, Acinetobacter baumannii, Pseudomonas aeruginosa, and Enterobacter species), a group of pathogens with a high rate of antibiotic resistance that are responsible for the majority of nosocomial infections.Colloquially, A. baumannii is referred to as \"Iraqibacter\" due to its seemingly sudden emergence in military treatment facilities during the Iraq War. It has continued to be an issue for veterans and soldiers who served in Iraq and Afghanistan. Multidrug-resistant A. baumannii has spread to civilian hospitals in part due to the transport of infected soldiers through multiple medical facilities. During the COVID-19 pandemic, coinfection with A. baumannii secondary to SARS-CoV-2 infections has been reported multiple times in literature.  \n",
              "2                                                                                                                                                                                                                                                                                                                                                                                                                                                                                                                                                                                                                                                                                                                                                                                                                                                                                                                                                                                                                                                                                                                                                                                                                                                                                                                                                                                                                                                                                                                                                                                                                                                                                                                                                                                                                                                                                                                                                                                                                                                                                                    Actinomyces israelii is a species of Gram-positive, rod-shaped bacteria within the genus Actinomyces.  Known to live commensally on and within humans, A. israelii is an opportunistic pathogen and a cause of actinomycosis.  Many physiologically diverse strains of the species are known to exist, though not all are strict anaerobes. It was named after the German surgeon James Adolf Israel (1848–1926), who studied the organism for the first time in 1878.  \n",
              "3                                                                                                                                                                                                                                                                                                                                                                                                                                                                                                                                                                                                                                                                                                                                                                                                                                                                                                                                                           Agrobacterium radiobacter (more commonly known as Agrobacterium tumefaciens) is the causal agent of crown gall disease (the formation of tumours) in over 140 species of eudicots. It is a rod-shaped, Gram-negative soil bacterium. Symptoms are caused by the insertion of a small segment of DNA (known as the T-DNA, for 'transfer DNA', not to be confused with tRNA that transfers amino acids during protein synthesis), from a plasmid into the plant cell, which is incorporated at a semi-random location into the plant genome. Plant genomes can be engineered by use of Agrobacterium for the delivery of sequences hosted in T-DNA binary vectors.\\nAgrobacterium tumefaciens is an Alphaproteobacterium of the family Rhizobiaceae, which includes the nitrogen-fixing legume symbionts.  Unlike the nitrogen-fixing symbionts, tumor-producing Agrobacterium species are pathogenic and do not benefit the plant.  The wide variety of plants affected by Agrobacterium makes it of great concern to the agriculture industry.Economically, A. tumefaciens is a serious pathogen of walnuts, grape vines, stone fruits, nut trees, sugar beets, horse radish, and rhubarb, and the persistent nature of the tumors or galls caused by the disease make it particularly harmful for perennial crops.Agrobacterium tumefaciens grows optimally at 28 °C. The doubling time can range from 2.5–4h depending on the media, culture format, and level of aeration. At temperatures above 30 °C, A. tumefaciens begins to experience heat shock which is likely to result in errors in cell division.  \n",
              "4                                                                                                                                                                                                                                                                                                                                                                                                                                                                                                                                                                                                                                                                                                                                                                                                                                                                                                                                                                                                                                                                                                                                                                                                                                                                                                                                                                         Anaplasma is a genus of bacteria of the alphaproteobacterial order Rickettsiales, family Anaplasmataceae.\\nAnaplasma species reside in host blood cells and lead to the disease anaplasmosis. The disease most commonly occurs in areas where competent tick vectors are indigenous, including tropical and semitropical areas of the world for intraerythrocytic Anaplasma spp.Anaplasma species are biologically transmitted by Ixodes deer-tick vectors, and the prototypical species, A. marginale, can be mechanically transmitted by biting flies and iatrogenically with blood-contaminated instruments. One of the major consequences of infection by bovine red blood cells by A. marginale is the development of nonhaemolytic anaemia, thus the absence of hemoglobinuria, which allows clinical differentiation from another major tick-borne disease, bovine babesiosis, caused by Babesia bigemina.Species of veterinary interest include:\\n\\nAnaplasma marginale and Anaplasma centrale in cattle\\nAnaplasma ovis and Anaplasma mesaeterum in sheep and goats\\nAnaplasma phagocytophilum in dogs, cats, and horses (see human granulocytic anaplasmosis)\\nAnaplasma platys in dogs  "
            ],
            "text/html": [
              "\n",
              "  <div id=\"df-6026849e-0b77-4fed-94cb-78b7f3e13b3f\">\n",
              "    <div class=\"colab-df-container\">\n",
              "      <div>\n",
              "<style scoped>\n",
              "    .dataframe tbody tr th:only-of-type {\n",
              "        vertical-align: middle;\n",
              "    }\n",
              "\n",
              "    .dataframe tbody tr th {\n",
              "        vertical-align: top;\n",
              "    }\n",
              "\n",
              "    .dataframe thead th {\n",
              "        text-align: right;\n",
              "    }\n",
              "</style>\n",
              "<table border=\"1\" class=\"dataframe\">\n",
              "  <thead>\n",
              "    <tr style=\"text-align: right;\">\n",
              "      <th></th>\n",
              "      <th>Name</th>\n",
              "      <th>Description</th>\n",
              "    </tr>\n",
              "  </thead>\n",
              "  <tbody>\n",
              "    <tr>\n",
              "      <th>0</th>\n",
              "      <td>Frateuria aurantia</td>\n",
              "      <td>Frateuria aurantia is a species of bacteria. It is named after the Belgian microbiologist Joseph Frateur. The cells are mostly straight rods. Frateuria aurantia was isolated from the plant Lilium auratum and from the fruit of the raspberry Rubus parvifolius. It is a potassium solubilizing bacteria.</td>\n",
              "    </tr>\n",
              "    <tr>\n",
              "      <th>1</th>\n",
              "      <td>Acinetobacter baumannii</td>\n",
              "      <td>Acinetobacter baumannii is a typically short, almost round, rod-shaped (coccobacillus) Gram-negative bacterium. It is named after the bacteriologist Paul Baumann. It can be an opportunistic pathogen in humans, affecting people with compromised immune systems, and is becoming increasingly important as a hospital-derived (nosocomial) infection. While other species of the genus Acinetobacter are often found in soil samples (leading to the common misconception that A. baumannii is a soil organism, too), it is almost exclusively isolated from hospital environments. Although occasionally it has been found in environmental soil and water samples, its natural habitat is still not known.\\nBacteria of this genus lack flagella, whip-like structures many bacteria use for locomotion, but exhibit twitching or swarming motility. This may be due to the activity of type IV pili, pole-like structures that can be extended and retracted. Motility in A. baumannii may also be due to the excretion of exopolysaccharide, creating a film of high-molecular-weight sugar chains behind the bacterium to move forward. Clinical microbiologists typically differentiate members of the genus Acinetobacter from other Moraxellaceae by performing an oxidase test, as Acinetobacter spp. are the only members of the Moraxellaceae to lack cytochrome c oxidases.A. baumannii is part of the ACB complex (A. baumannii, A. calcoaceticus, and Acinetobacter genomic species 13TU). It is difficult to determine the specific species of members of the ACB complex and they comprise the most clinically relevant members of the genus. A. baumannii has also been identified as an ESKAPE pathogen (Enterococcus faecium, Staphylococcus aureus, Klebsiella pneumoniae, Acinetobacter baumannii, Pseudomonas aeruginosa, and Enterobacter species), a group of pathogens with a high rate of antibiotic resistance that are responsible for the majority of nosocomial infections.Colloquially, A. baumannii is referred to as \"Iraqibacter\" due to its seemingly sudden emergence in military treatment facilities during the Iraq War. It has continued to be an issue for veterans and soldiers who served in Iraq and Afghanistan. Multidrug-resistant A. baumannii has spread to civilian hospitals in part due to the transport of infected soldiers through multiple medical facilities. During the COVID-19 pandemic, coinfection with A. baumannii secondary to SARS-CoV-2 infections has been reported multiple times in literature.</td>\n",
              "    </tr>\n",
              "    <tr>\n",
              "      <th>2</th>\n",
              "      <td>Actinomyces israelii</td>\n",
              "      <td>Actinomyces israelii is a species of Gram-positive, rod-shaped bacteria within the genus Actinomyces.  Known to live commensally on and within humans, A. israelii is an opportunistic pathogen and a cause of actinomycosis.  Many physiologically diverse strains of the species are known to exist, though not all are strict anaerobes. It was named after the German surgeon James Adolf Israel (1848–1926), who studied the organism for the first time in 1878.</td>\n",
              "    </tr>\n",
              "    <tr>\n",
              "      <th>3</th>\n",
              "      <td>Agrobacterium tumefaciens</td>\n",
              "      <td>Agrobacterium radiobacter (more commonly known as Agrobacterium tumefaciens) is the causal agent of crown gall disease (the formation of tumours) in over 140 species of eudicots. It is a rod-shaped, Gram-negative soil bacterium. Symptoms are caused by the insertion of a small segment of DNA (known as the T-DNA, for 'transfer DNA', not to be confused with tRNA that transfers amino acids during protein synthesis), from a plasmid into the plant cell, which is incorporated at a semi-random location into the plant genome. Plant genomes can be engineered by use of Agrobacterium for the delivery of sequences hosted in T-DNA binary vectors.\\nAgrobacterium tumefaciens is an Alphaproteobacterium of the family Rhizobiaceae, which includes the nitrogen-fixing legume symbionts.  Unlike the nitrogen-fixing symbionts, tumor-producing Agrobacterium species are pathogenic and do not benefit the plant.  The wide variety of plants affected by Agrobacterium makes it of great concern to the agriculture industry.Economically, A. tumefaciens is a serious pathogen of walnuts, grape vines, stone fruits, nut trees, sugar beets, horse radish, and rhubarb, and the persistent nature of the tumors or galls caused by the disease make it particularly harmful for perennial crops.Agrobacterium tumefaciens grows optimally at 28 °C. The doubling time can range from 2.5–4h depending on the media, culture format, and level of aeration. At temperatures above 30 °C, A. tumefaciens begins to experience heat shock which is likely to result in errors in cell division.</td>\n",
              "    </tr>\n",
              "    <tr>\n",
              "      <th>4</th>\n",
              "      <td>Anaplasma</td>\n",
              "      <td>Anaplasma is a genus of bacteria of the alphaproteobacterial order Rickettsiales, family Anaplasmataceae.\\nAnaplasma species reside in host blood cells and lead to the disease anaplasmosis. The disease most commonly occurs in areas where competent tick vectors are indigenous, including tropical and semitropical areas of the world for intraerythrocytic Anaplasma spp.Anaplasma species are biologically transmitted by Ixodes deer-tick vectors, and the prototypical species, A. marginale, can be mechanically transmitted by biting flies and iatrogenically with blood-contaminated instruments. One of the major consequences of infection by bovine red blood cells by A. marginale is the development of nonhaemolytic anaemia, thus the absence of hemoglobinuria, which allows clinical differentiation from another major tick-borne disease, bovine babesiosis, caused by Babesia bigemina.Species of veterinary interest include:\\n\\nAnaplasma marginale and Anaplasma centrale in cattle\\nAnaplasma ovis and Anaplasma mesaeterum in sheep and goats\\nAnaplasma phagocytophilum in dogs, cats, and horses (see human granulocytic anaplasmosis)\\nAnaplasma platys in dogs</td>\n",
              "    </tr>\n",
              "  </tbody>\n",
              "</table>\n",
              "</div>\n",
              "      <button class=\"colab-df-convert\" onclick=\"convertToInteractive('df-6026849e-0b77-4fed-94cb-78b7f3e13b3f')\"\n",
              "              title=\"Convert this dataframe to an interactive table.\"\n",
              "              style=\"display:none;\">\n",
              "        \n",
              "  <svg xmlns=\"http://www.w3.org/2000/svg\" height=\"24px\"viewBox=\"0 0 24 24\"\n",
              "       width=\"24px\">\n",
              "    <path d=\"M0 0h24v24H0V0z\" fill=\"none\"/>\n",
              "    <path d=\"M18.56 5.44l.94 2.06.94-2.06 2.06-.94-2.06-.94-.94-2.06-.94 2.06-2.06.94zm-11 1L8.5 8.5l.94-2.06 2.06-.94-2.06-.94L8.5 2.5l-.94 2.06-2.06.94zm10 10l.94 2.06.94-2.06 2.06-.94-2.06-.94-.94-2.06-.94 2.06-2.06.94z\"/><path d=\"M17.41 7.96l-1.37-1.37c-.4-.4-.92-.59-1.43-.59-.52 0-1.04.2-1.43.59L10.3 9.45l-7.72 7.72c-.78.78-.78 2.05 0 2.83L4 21.41c.39.39.9.59 1.41.59.51 0 1.02-.2 1.41-.59l7.78-7.78 2.81-2.81c.8-.78.8-2.07 0-2.86zM5.41 20L4 18.59l7.72-7.72 1.47 1.35L5.41 20z\"/>\n",
              "  </svg>\n",
              "      </button>\n",
              "      \n",
              "  <style>\n",
              "    .colab-df-container {\n",
              "      display:flex;\n",
              "      flex-wrap:wrap;\n",
              "      gap: 12px;\n",
              "    }\n",
              "\n",
              "    .colab-df-convert {\n",
              "      background-color: #E8F0FE;\n",
              "      border: none;\n",
              "      border-radius: 50%;\n",
              "      cursor: pointer;\n",
              "      display: none;\n",
              "      fill: #1967D2;\n",
              "      height: 32px;\n",
              "      padding: 0 0 0 0;\n",
              "      width: 32px;\n",
              "    }\n",
              "\n",
              "    .colab-df-convert:hover {\n",
              "      background-color: #E2EBFA;\n",
              "      box-shadow: 0px 1px 2px rgba(60, 64, 67, 0.3), 0px 1px 3px 1px rgba(60, 64, 67, 0.15);\n",
              "      fill: #174EA6;\n",
              "    }\n",
              "\n",
              "    [theme=dark] .colab-df-convert {\n",
              "      background-color: #3B4455;\n",
              "      fill: #D2E3FC;\n",
              "    }\n",
              "\n",
              "    [theme=dark] .colab-df-convert:hover {\n",
              "      background-color: #434B5C;\n",
              "      box-shadow: 0px 1px 3px 1px rgba(0, 0, 0, 0.15);\n",
              "      filter: drop-shadow(0px 1px 2px rgba(0, 0, 0, 0.3));\n",
              "      fill: #FFFFFF;\n",
              "    }\n",
              "  </style>\n",
              "\n",
              "      <script>\n",
              "        const buttonEl =\n",
              "          document.querySelector('#df-6026849e-0b77-4fed-94cb-78b7f3e13b3f button.colab-df-convert');\n",
              "        buttonEl.style.display =\n",
              "          google.colab.kernel.accessAllowed ? 'block' : 'none';\n",
              "\n",
              "        async function convertToInteractive(key) {\n",
              "          const element = document.querySelector('#df-6026849e-0b77-4fed-94cb-78b7f3e13b3f');\n",
              "          const dataTable =\n",
              "            await google.colab.kernel.invokeFunction('convertToInteractive',\n",
              "                                                     [key], {});\n",
              "          if (!dataTable) return;\n",
              "\n",
              "          const docLinkHtml = 'Like what you see? Visit the ' +\n",
              "            '<a target=\"_blank\" href=https://colab.research.google.com/notebooks/data_table.ipynb>data table notebook</a>'\n",
              "            + ' to learn more about interactive tables.';\n",
              "          element.innerHTML = '';\n",
              "          dataTable['output_type'] = 'display_data';\n",
              "          await google.colab.output.renderOutput(dataTable, element);\n",
              "          const docLink = document.createElement('div');\n",
              "          docLink.innerHTML = docLinkHtml;\n",
              "          element.appendChild(docLink);\n",
              "        }\n",
              "      </script>\n",
              "    </div>\n",
              "  </div>\n",
              "  "
            ]
          },
          "metadata": {},
          "execution_count": 11
        }
      ]
    },
    {
      "cell_type": "code",
      "source": [
        "bacteriophage_df.head()"
      ],
      "metadata": {
        "colab": {
          "base_uri": "https://localhost:8080/",
          "height": 441
        },
        "id": "28bTFjYBByst",
        "outputId": "76c307d6-86cc-4dd1-c563-e3dafb872a57"
      },
      "execution_count": null,
      "outputs": [
        {
          "output_type": "execute_result",
          "data": {
            "text/plain": [
              "                  Name  \\\n",
              "0        Bacteriophage   \n",
              "1  Bacillus virus AP50   \n",
              "2  Bacteriophage AP205   \n",
              "3     Bacteriophage f2   \n",
              "4    Bacteriophage MS2   \n",
              "\n",
              "                                                                                                                                                                                                                                                                                                                                                                                                                                                                                                                                                                                                                                                                                                                                                                                                                                                                                                                                                                                                                                                                                                                                                                                                                                                                                                                                                                                                                                                                                                                                                                                                                                               Description  \n",
              "0  A bacteriophage (), also known informally as a phage (), is a virus that infects and replicates within bacteria and archaea. The term was derived from \"bacteria\" and the Greek φαγεῖν (phagein), meaning \"to devour\". Bacteriophages are composed of proteins that encapsulate a DNA or RNA genome, and may have structures that are either simple or elaborate. Their genomes may encode as few as four genes (e.g. MS2) and as many as hundreds of genes. Phages replicate within the bacterium following the injection of their genome into its cytoplasm.\\nBacteriophages are among the most common and diverse entities in the biosphere. Bacteriophages are ubiquitous viruses, found wherever bacteria exist. It is estimated there are more than 1031 bacteriophages on the planet, more than every other organism on Earth, including bacteria, combined. Viruses are the most abundant biological entity in the water column of the world's oceans, and the second largest component of biomass after prokaryotes, where up to 9x108 virions per millilitre have been found in microbial mats at the surface, and up to 70% of marine bacteria may be infected by phages.Phages have been used since the late 20th century as an alternative to antibiotics in the former Soviet Union and Central Europe, as well as in France. They are seen as a possible therapy against multi-drug-resistant strains of many bacteria (see phage therapy).\\nPhages are known to interact with the immune system both indirectly via bacterial expression of phage-encoded proteins and directly by influencing innate immunity and bacterial clearance.  \n",
              "1                                                                                                                                                                                                                                                                                                                                                                                                                                                                                                                                                                                                                                                                                                                                                                                                                                                                                                                                                                                                                                                                                                                                                                                                                                                                                                                                                                                     Bacillus virus AP50 is a species of bacteriophage that infects Bacillus anthracis bacteria. Originally thought to be an RNA phage, it contains a DNA genome of about 14,000 base pairs in an icosahedral capsid with a two-layer capsid shell.\\n\\n\\n== References ==  \n",
              "2                                                                                                                                                                                                                                                                                                                                                                                                                                                                                                                                                                                                                                                                                                                                                                                                                                                                                                                                                                                                                                                                                                                                                                                                                                                                                                                                                                            Bacteriophage AP205 is a bacteriophage that infects Acinetobacter bacteria. Contains a genome linear of positive single-stranded RNA. The bacteriophage belongs to the genus Apeevirus of the Duinviridae family and is the type species of the family.\\n\\n\\n== References ==  \n",
              "3                                                                                                                                                                                                                                                                                                                                                                                                                                                                                                                                                                                                                                                                                                                                                                                                                                                                                                                                                                                                                                                                                                                                                                                                                                                                                                                                                                                                                                                  Bacteriophage f2 is an icosahedral, positive-sense single-stranded RNA virus that infects the bacterium Escherichia coli.  It is closely related to bacteriophage MS2 and assigned to the same species.  \n",
              "4                                                                                                                                                                                                                                                                                                                                                                                                                                                                                                                                                                                                                                                                                                                                                                                                                                                                                                                                                                                                                                                                                                                                                                                                                                                                                                         Bacteriophage MS2 (Emesvirus zinderi), commonly called MS2, is an icosahedral, positive-sense single-stranded RNA virus that infects the bacterium Escherichia coli and other members of the Enterobacteriaceae. MS2 is a member of a family of closely related bacterial viruses that includes bacteriophage f2, bacteriophage Qβ, R17, and GA.  "
            ],
            "text/html": [
              "\n",
              "  <div id=\"df-7be99fd1-2042-47ab-9641-4eb1b81c275a\">\n",
              "    <div class=\"colab-df-container\">\n",
              "      <div>\n",
              "<style scoped>\n",
              "    .dataframe tbody tr th:only-of-type {\n",
              "        vertical-align: middle;\n",
              "    }\n",
              "\n",
              "    .dataframe tbody tr th {\n",
              "        vertical-align: top;\n",
              "    }\n",
              "\n",
              "    .dataframe thead th {\n",
              "        text-align: right;\n",
              "    }\n",
              "</style>\n",
              "<table border=\"1\" class=\"dataframe\">\n",
              "  <thead>\n",
              "    <tr style=\"text-align: right;\">\n",
              "      <th></th>\n",
              "      <th>Name</th>\n",
              "      <th>Description</th>\n",
              "    </tr>\n",
              "  </thead>\n",
              "  <tbody>\n",
              "    <tr>\n",
              "      <th>0</th>\n",
              "      <td>Bacteriophage</td>\n",
              "      <td>A bacteriophage (), also known informally as a phage (), is a virus that infects and replicates within bacteria and archaea. The term was derived from \"bacteria\" and the Greek φαγεῖν (phagein), meaning \"to devour\". Bacteriophages are composed of proteins that encapsulate a DNA or RNA genome, and may have structures that are either simple or elaborate. Their genomes may encode as few as four genes (e.g. MS2) and as many as hundreds of genes. Phages replicate within the bacterium following the injection of their genome into its cytoplasm.\\nBacteriophages are among the most common and diverse entities in the biosphere. Bacteriophages are ubiquitous viruses, found wherever bacteria exist. It is estimated there are more than 1031 bacteriophages on the planet, more than every other organism on Earth, including bacteria, combined. Viruses are the most abundant biological entity in the water column of the world's oceans, and the second largest component of biomass after prokaryotes, where up to 9x108 virions per millilitre have been found in microbial mats at the surface, and up to 70% of marine bacteria may be infected by phages.Phages have been used since the late 20th century as an alternative to antibiotics in the former Soviet Union and Central Europe, as well as in France. They are seen as a possible therapy against multi-drug-resistant strains of many bacteria (see phage therapy).\\nPhages are known to interact with the immune system both indirectly via bacterial expression of phage-encoded proteins and directly by influencing innate immunity and bacterial clearance.</td>\n",
              "    </tr>\n",
              "    <tr>\n",
              "      <th>1</th>\n",
              "      <td>Bacillus virus AP50</td>\n",
              "      <td>Bacillus virus AP50 is a species of bacteriophage that infects Bacillus anthracis bacteria. Originally thought to be an RNA phage, it contains a DNA genome of about 14,000 base pairs in an icosahedral capsid with a two-layer capsid shell.\\n\\n\\n== References ==</td>\n",
              "    </tr>\n",
              "    <tr>\n",
              "      <th>2</th>\n",
              "      <td>Bacteriophage AP205</td>\n",
              "      <td>Bacteriophage AP205 is a bacteriophage that infects Acinetobacter bacteria. Contains a genome linear of positive single-stranded RNA. The bacteriophage belongs to the genus Apeevirus of the Duinviridae family and is the type species of the family.\\n\\n\\n== References ==</td>\n",
              "    </tr>\n",
              "    <tr>\n",
              "      <th>3</th>\n",
              "      <td>Bacteriophage f2</td>\n",
              "      <td>Bacteriophage f2 is an icosahedral, positive-sense single-stranded RNA virus that infects the bacterium Escherichia coli.  It is closely related to bacteriophage MS2 and assigned to the same species.</td>\n",
              "    </tr>\n",
              "    <tr>\n",
              "      <th>4</th>\n",
              "      <td>Bacteriophage MS2</td>\n",
              "      <td>Bacteriophage MS2 (Emesvirus zinderi), commonly called MS2, is an icosahedral, positive-sense single-stranded RNA virus that infects the bacterium Escherichia coli and other members of the Enterobacteriaceae. MS2 is a member of a family of closely related bacterial viruses that includes bacteriophage f2, bacteriophage Qβ, R17, and GA.</td>\n",
              "    </tr>\n",
              "  </tbody>\n",
              "</table>\n",
              "</div>\n",
              "      <button class=\"colab-df-convert\" onclick=\"convertToInteractive('df-7be99fd1-2042-47ab-9641-4eb1b81c275a')\"\n",
              "              title=\"Convert this dataframe to an interactive table.\"\n",
              "              style=\"display:none;\">\n",
              "        \n",
              "  <svg xmlns=\"http://www.w3.org/2000/svg\" height=\"24px\"viewBox=\"0 0 24 24\"\n",
              "       width=\"24px\">\n",
              "    <path d=\"M0 0h24v24H0V0z\" fill=\"none\"/>\n",
              "    <path d=\"M18.56 5.44l.94 2.06.94-2.06 2.06-.94-2.06-.94-.94-2.06-.94 2.06-2.06.94zm-11 1L8.5 8.5l.94-2.06 2.06-.94-2.06-.94L8.5 2.5l-.94 2.06-2.06.94zm10 10l.94 2.06.94-2.06 2.06-.94-2.06-.94-.94-2.06-.94 2.06-2.06.94z\"/><path d=\"M17.41 7.96l-1.37-1.37c-.4-.4-.92-.59-1.43-.59-.52 0-1.04.2-1.43.59L10.3 9.45l-7.72 7.72c-.78.78-.78 2.05 0 2.83L4 21.41c.39.39.9.59 1.41.59.51 0 1.02-.2 1.41-.59l7.78-7.78 2.81-2.81c.8-.78.8-2.07 0-2.86zM5.41 20L4 18.59l7.72-7.72 1.47 1.35L5.41 20z\"/>\n",
              "  </svg>\n",
              "      </button>\n",
              "      \n",
              "  <style>\n",
              "    .colab-df-container {\n",
              "      display:flex;\n",
              "      flex-wrap:wrap;\n",
              "      gap: 12px;\n",
              "    }\n",
              "\n",
              "    .colab-df-convert {\n",
              "      background-color: #E8F0FE;\n",
              "      border: none;\n",
              "      border-radius: 50%;\n",
              "      cursor: pointer;\n",
              "      display: none;\n",
              "      fill: #1967D2;\n",
              "      height: 32px;\n",
              "      padding: 0 0 0 0;\n",
              "      width: 32px;\n",
              "    }\n",
              "\n",
              "    .colab-df-convert:hover {\n",
              "      background-color: #E2EBFA;\n",
              "      box-shadow: 0px 1px 2px rgba(60, 64, 67, 0.3), 0px 1px 3px 1px rgba(60, 64, 67, 0.15);\n",
              "      fill: #174EA6;\n",
              "    }\n",
              "\n",
              "    [theme=dark] .colab-df-convert {\n",
              "      background-color: #3B4455;\n",
              "      fill: #D2E3FC;\n",
              "    }\n",
              "\n",
              "    [theme=dark] .colab-df-convert:hover {\n",
              "      background-color: #434B5C;\n",
              "      box-shadow: 0px 1px 3px 1px rgba(0, 0, 0, 0.15);\n",
              "      filter: drop-shadow(0px 1px 2px rgba(0, 0, 0, 0.3));\n",
              "      fill: #FFFFFF;\n",
              "    }\n",
              "  </style>\n",
              "\n",
              "      <script>\n",
              "        const buttonEl =\n",
              "          document.querySelector('#df-7be99fd1-2042-47ab-9641-4eb1b81c275a button.colab-df-convert');\n",
              "        buttonEl.style.display =\n",
              "          google.colab.kernel.accessAllowed ? 'block' : 'none';\n",
              "\n",
              "        async function convertToInteractive(key) {\n",
              "          const element = document.querySelector('#df-7be99fd1-2042-47ab-9641-4eb1b81c275a');\n",
              "          const dataTable =\n",
              "            await google.colab.kernel.invokeFunction('convertToInteractive',\n",
              "                                                     [key], {});\n",
              "          if (!dataTable) return;\n",
              "\n",
              "          const docLinkHtml = 'Like what you see? Visit the ' +\n",
              "            '<a target=\"_blank\" href=https://colab.research.google.com/notebooks/data_table.ipynb>data table notebook</a>'\n",
              "            + ' to learn more about interactive tables.';\n",
              "          element.innerHTML = '';\n",
              "          dataTable['output_type'] = 'display_data';\n",
              "          await google.colab.output.renderOutput(dataTable, element);\n",
              "          const docLink = document.createElement('div');\n",
              "          docLink.innerHTML = docLinkHtml;\n",
              "          element.appendChild(docLink);\n",
              "        }\n",
              "      </script>\n",
              "    </div>\n",
              "  </div>\n",
              "  "
            ]
          },
          "metadata": {},
          "execution_count": 13
        }
      ]
    },
    {
      "cell_type": "code",
      "source": [
        "## Save df as csv on drive\n",
        "#bacteria_df.to_csv('bacteria_df.csv', encoding = 'utf-8-sig') \n",
        "#bacteriophage_df.to_csv('bacteriophage_df.csv', encoding = 'utf-8-sig') \n",
        "#viruses_df.to_csv('viruses_df.csv', encoding = 'utf-8-sig') \n"
      ],
      "metadata": {
        "id": "Tkw9UEstSx5F"
      },
      "execution_count": null,
      "outputs": []
    },
    {
      "cell_type": "markdown",
      "source": [
        "# Link for part 2 - Exploratory Data Analysis colab notebook\n",
        "https://colab.research.google.com/drive/1KiEijOrDQG1gGiNWxhvXOBvrgm1URtXO?usp=sharing"
      ],
      "metadata": {
        "id": "l5R4e_Dl4WEl"
      }
    }
  ]
}
