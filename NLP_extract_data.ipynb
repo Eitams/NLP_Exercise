{
  "nbformat": 4,
  "nbformat_minor": 0,
  "metadata": {
    "colab": {
      "name": "NLP_extract_data.ipynb",
      "provenance": [],
      "collapsed_sections": [],
      "authorship_tag": "ABX9TyPMCg/r0KN2mvi8f6efUVSJ",
      "include_colab_link": true
    },
    "kernelspec": {
      "name": "python3",
      "display_name": "Python 3"
    },
    "language_info": {
      "name": "python"
    },
    "accelerator": "GPU"
  },
  "cells": [
    {
      "cell_type": "markdown",
      "metadata": {
        "id": "view-in-github",
        "colab_type": "text"
      },
      "source": [
        "<a href=\"https://colab.research.google.com/github/Eitams/NLP_Exercise/blob/main/NLP_extract_data.ipynb\" target=\"_parent\"><img src=\"https://colab.research.google.com/assets/colab-badge.svg\" alt=\"Open In Colab\"/></a>"
      ]
    },
    {
      "cell_type": "markdown",
      "source": [
        "# Text analysis - Bacteria VS Bactriophage\n",
        "## Extracting data from wikipedia"
      ],
      "metadata": {
        "id": "NHrERliFvjZG"
      }
    },
    {
      "cell_type": "code",
      "source": [
        "## Install wikipedia api\n",
        "!pip install wikipedia-api"
      ],
      "metadata": {
        "id": "U-6EJGDjv_n2"
      },
      "execution_count": null,
      "outputs": []
    },
    {
      "cell_type": "code",
      "source": [
        "## Mount drive\n",
        "from google.colab import drive\n",
        "drive.mount('/content/drive')\n",
        "#import os\n",
        "#os.chdir('/content/drive/MyDrive/NLP')"
      ],
      "metadata": {
        "colab": {
          "base_uri": "https://localhost:8080/"
        },
        "id": "U0fI1jy8Avk3",
        "outputId": "59f3876e-4ffd-49dd-d03b-dcc84c25195c"
      },
      "execution_count": null,
      "outputs": [
        {
          "output_type": "stream",
          "name": "stdout",
          "text": [
            "Mounted at /content/drive\n"
          ]
        }
      ]
    },
    {
      "cell_type": "code",
      "source": [
        "import wikipediaapi\n",
        "import pandas as pd\n",
        "\n",
        "## Set up environment\n",
        "pd.set_option('display.max_columns', None)\n",
        "#pd.set_option('display.expand_frame_repr', False)\n",
        "pd.set_option('max_colwidth', None)"
      ],
      "metadata": {
        "id": "hHQoyQseJIqr"
      },
      "execution_count": null,
      "outputs": []
    },
    {
      "cell_type": "code",
      "source": [
        "# Define language and page\n",
        "wiki = wikipediaapi.Wikipedia('en')\n",
        "\n",
        "# collect wiki page data in a variable \n",
        "bacteria = wiki.page(\"List_of_clinically_important_bacteria\")\n",
        "bacteriophage = wiki.page(\"Category:Bacteriophages\")\n",
        "# viruses = wiki.page(\"List_of_virus_species\") ## Was not used in the in the final dataframe"
      ],
      "metadata": {
        "id": "r2kmgu1_J-WB"
      },
      "execution_count": null,
      "outputs": []
    },
    {
      "cell_type": "code",
      "source": [
        "'''\n",
        "Function- extreact links from wikipedia bacteria page.\n",
        "The function filter the bacteria pages links from the other links in the page\n",
        "and returns only them with a short description as a dictionary.\n",
        "*The page is not a category\n",
        "'''\n",
        "def bacteria_link_collector(category):\n",
        "  ## The bacteria pages section titles are a letter- we used this to find the names of the wanted pages\n",
        "  import recategory_names =[]\n",
        "  pattern = re.compile(\"[A-Za-z]\")\n",
        "  for i in category.sections:\n",
        "    if pattern.fullmatch(i.title): ## if section name= letter\n",
        "      tmp=i.text.split('\\n')\n",
        "      for name in tmp:\n",
        "        category_names.append(name) ## add name of links under section to list\n",
        "  \n",
        "  ## Extract the summary of all links who exist in category_name list and have data inside\n",
        "  mdict = {}\n",
        "  links = category.links\n",
        "  for c in links.values():\n",
        "     if c.ns == 0 and c.title in category_names and len(c.summary[0:1])>0:                                                            # Exclude categories within the category\n",
        "        mdict[c.title] = c.summary ## Assign to dict\n",
        "  return mdict"
      ],
      "metadata": {
        "id": "GAMY4w7r5Qam"
      },
      "execution_count": null,
      "outputs": []
    },
    {
      "cell_type": "code",
      "source": [
        "# Get members for a category together with a short description\n",
        "def Bacteriophage_collector(category):\n",
        "      mdict = {}\n",
        "      categorymembers = category.categorymembers\n",
        "      for c in categorymembers.values():\n",
        "        if c.ns == 0:                                                            # Exclude categories within the category\n",
        "          mdict[c.title] = c.summary\n",
        "      return mdict"
      ],
      "metadata": {
        "id": "BBPcf_3pE-nM"
      },
      "execution_count": null,
      "outputs": []
    },
    {
      "cell_type": "code",
      "source": [
        "# Get all links in a list together with a short description\n",
        "def virus_link_collector(category):\n",
        "  mdict = {}\n",
        "  links = category.links\n",
        "  for c in links.values():\n",
        "     if c.ns == 0 and len(c.summary[0:1])>0:                                                            # Exclude categories within the category\n",
        "        mdict[c.title] = c.summary\n",
        "  return mdict\n"
      ],
      "metadata": {
        "id": "QWk9ZKvYbFWC"
      },
      "execution_count": null,
      "outputs": []
    },
    {
      "cell_type": "code",
      "source": [
        "bacteria_dic = bacteria_link_collector(bacteria)\n",
        "bacteriophage_dic = Bacteriophage_collector(bacteriophage)\n",
        "#virus_dic = virus_link_collector(viruses)"
      ],
      "metadata": {
        "id": "EboyThsr8_uM"
      },
      "execution_count": null,
      "outputs": []
    },
    {
      "cell_type": "code",
      "source": [
        "# Transform dictionaries to dataframes \n",
        "\n",
        "# Bacteria\n",
        "bacteria_df = pd.DataFrame([bacteria_dic.keys(), bacteria_dic.values()]).T\n",
        "bacteria_df.columns = ['Name', 'Description']\n",
        "bacteria_df_style = bacteria_df.style.set_properties(**{'text-align': 'left'}).set_table_styles([dict(selector='th', props=[('text-align', 'left')])])\n",
        "\n",
        "# bacteriophage\n",
        "bacteriophage_df = pd.DataFrame([bacteriophage_dic.keys(), bacteriophage_dic.values()]).T\n",
        "bacteriophage_df.columns = ['Name', 'Description']\n",
        "bacteriophage_df_style = bacteriophage_df.style.set_properties(**{'text-align': 'left'}).set_table_styles([dict(selector='th', props=[('text-align', 'left')])])\n",
        "\n",
        "# Viruses\n",
        "#viruses_df = pd.DataFrame([virus_dic.keys(), virus_dic.values()]).T\n",
        "#viruses_df.columns = ['Name', 'Description']\n",
        "#viruses_df_style = viruses_df.style.set_properties(**{'text-align': 'left'}).set_table_styles([dict(selector='th', props=[('text-align', 'left')])])"
      ],
      "metadata": {
        "id": "uke3batfKou6"
      },
      "execution_count": null,
      "outputs": []
    },
    {
      "cell_type": "code",
      "source": [
        "## Save df as csv on drive\n",
        "#bacteria_df.to_csv('bacteria_df.csv', encoding = 'utf-8-sig') \n",
        "#bacteriophage_df.to_csv('bacteriophage_df.csv', encoding = 'utf-8-sig') \n",
        "#viruses_df.to_csv('viruses_df.csv', encoding = 'utf-8-sig') \n"
      ],
      "metadata": {
        "id": "Tkw9UEstSx5F"
      },
      "execution_count": null,
      "outputs": []
    }
  ]
}